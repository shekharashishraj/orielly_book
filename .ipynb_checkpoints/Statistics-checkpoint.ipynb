{
 "cells": [
  {
   "cell_type": "raw",
   "id": "3ebd03ae-ec89-41e6-a721-b913ef8c8c53",
   "metadata": {},
   "source": [
    "Probabilty - chance of an event happening\n",
    "An event is an outcome of an experiment\n",
    "An experiment is a process that is performed to understand and observe possible outcomes.\n",
    "Set of all outcomes of an experiment are known as the sample space.\n",
    "\n",
    "P(A) = M/N\n",
    "Where m = favorable outcomes \n",
    "n= total outcomes possible\n",
    "0<=p(A)<=1\n",
    "\n",
    "\n",
    "Complement of probability is 1 - p(A).\n",
    "If event a is a subset of B then P(A) IS A SUBSET OF P(B)\n",
    "\n",
    "\n",
    "\n",
    "*) Mututally exclusive events :  If one happens then other ones don't happen.\n",
    "    If the events are mutually exclusive if the can be added.\n",
    "1) Addition Rule - Mutually exclusive events \n",
    "P(A U B) = P(A) + P(B)\n",
    "\n",
    "\n",
    "For disjoint events the above rule.\n",
    "\n",
    "\n",
    "\n",
    "\n",
    "In case of not  Mutually  exclusive events \n",
    "P(A U B) = P(A) +P(B) -P(A INTERSECTION B)\n",
    "\n",
    "\n",
    "\n",
    "\n",
    "\n",
    "\n",
    "\n",
    "\n",
    "\n",
    "\n",
    "*) Independent events: If occurance of A is in no way influenced by the occurance of B.\n",
    "\n",
    "Mutually exclusive events are not independent.\n",
    "\n"
   ]
  },
  {
   "cell_type": "markdown",
   "id": "90125753-e5b1-420a-b608-0386be08c581",
   "metadata": {},
   "source": [
    "Probability Day- 1 DECK\n"
   ]
  },
  {
   "cell_type": "raw",
   "id": "98a991e0-706a-49a9-b7d5-97345f94a708",
   "metadata": {},
   "source": [
    "Statistics :\n",
    "\n",
    "1)  Descriptive : It is used to describe the sample or summarize information about the sample.\n",
    "\n",
    "2) Inferentail : It is used to make inferences and generalizations about the broader population.\n",
    "\n",
    "Numeric : Takes numeric values.\n",
    "\n",
    "\n",
    "Discrete  : A random variable that takes discrete values i.e, values from a the set of whole nubers only. It can take countably finite values.\n",
    "\n",
    "Ex- No of cars passing by a toll-gate every minute.\n",
    "Number of defective items in a box.\n",
    "\n",
    "\n",
    "Continuous numeric variable :  It is a variable which can have infinite number of values within a range.\n",
    "\n",
    "Ex- the amount of rain in millimeters\n",
    "price of a stock.\n",
    "\n",
    "\n",
    "\n",
    "*) Categorical Variable :\n",
    "Categorical varaibles has two or more levels.\n",
    "Qualitative variable.\n",
    "\n",
    "Examples : Clors : Res, green , yeloow\n",
    "gender : male or female \n",
    "\n",
    "    1)  Nominal data : It has no order and has two or more categories.\n",
    "     It represents discrete uits and are used to label variables.\n",
    "     Ex : - Apartment, Bungalow etc.\n",
    "\n",
    "    2) Binary Data : It has no order and strictly two categories \n",
    "    Dichotomous variables \n",
    "    EX- Presence or absence of a disease\n",
    "\n",
    "    3) Ordinal Data: Ordered nominal data\n",
    "    Discrete and ordered units \n",
    "    Eample : Education - Primary , Secondary, High School , College and university which are ordered\n",
    "\n",
    "\n",
    "\n",
    "\n",
    "Population : It is a collection of all the individuals and objects .\n",
    "\n",
    "Sample : It is a subset of the population which is a  representative of the population.\n",
    "Need for a sample :\n",
    "    1) Save time and cost\n",
    "    2) population not possible.\n",
    "    3) Can give good results when applied to machine learning even with small sample.\n",
    "\n",
    "\n",
    "\n",
    "Sampling Unit:  An individual and indivisble unit of the population eligible to be in the sampe.\n",
    "\n",
    "Sampling frame: An exhaustive list of all the members or elements of the population.\n",
    "\n",
    "Sampling : To consider a subset of the popualtion \n",
    "\n",
    "Sampling fraction  : Ratio of sample size to population size (N) i.e, f= n/N\n",
    "\n",
    "\n",
    "Two types of sampling: \n",
    "1)Probabilistic Sampling : i) Simple random sampling \n",
    "                            ii) Stratified Sampling \n",
    "                            iii) Systematic sampling \n",
    "                            iv) Cluster Sampling\n",
    "2) Non - Probabiltisic Sampling\n",
    "\n",
    "\n",
    "\n",
    "\n",
    "*) Simple Random Sampling (SRS) : Sample is drawn unit by unit \n",
    "        each unit has equal probability of selection.\n",
    "        Two ways :\n",
    "            1) With replacemetn , if the selected unit is returened to the population.\n",
    "                1.1 Specific unit probability  = 1/N\n",
    "                1.2 For N samle units, if a samle of size n is drawn There are N ^n  pOSSIBLE SAMPLES.\n",
    "                1,3 tHE PROBABILITY OF SLECTING ONE OF THEM IS 1/N^n\n",
    "\n",
    "            2)  Without replacemetn , if the selected unit is not  returened to the population.:\n",
    "                    2.1 The probability of any  of he remaining units is 1/N\n",
    "                    2.2  There N\n",
    "                                C   Possible samples\n",
    "                               n \n",
    "                    2.3 The probability of their slection is  1 / N\n",
    "                                                                    C\n",
    "\n",
    "Python Functions :\n",
    "    1. random.choices() = Draw sample with replacement\n",
    "    2. random.sample() = Draw sample without replacemnt.\n",
    "\n",
    "\n",
    "Sampling varaiability  =  It is the process of comparing the sample mean to population mean ."
   ]
  },
  {
   "cell_type": "code",
   "execution_count": 5,
   "id": "74389636-4bbd-4700-91c8-30aa26e034a3",
   "metadata": {},
   "outputs": [],
   "source": [
    "import random\n"
   ]
  },
  {
   "cell_type": "raw",
   "id": "dbab183f-ed37-4646-aa31-e630b4075c95",
   "metadata": {},
   "source": []
  },
  {
   "cell_type": "code",
   "execution_count": 15,
   "id": "3d6cd2b6-18a3-4c2d-b018-a0ccdf507515",
   "metadata": {},
   "outputs": [],
   "source": [
    "float_list = [round(random.uniform(14,16),1) for i in range(20)]"
   ]
  },
  {
   "cell_type": "code",
   "execution_count": 17,
   "id": "9ea01531-85f2-49b8-b65f-5436751101ea",
   "metadata": {},
   "outputs": [
    {
     "data": {
      "text/plain": [
       "[14.1,\n",
       " 15.2,\n",
       " 15.4,\n",
       " 14.9,\n",
       " 14.3,\n",
       " 15.4,\n",
       " 15.9,\n",
       " 15.2,\n",
       " 15.0,\n",
       " 15.7,\n",
       " 14.6,\n",
       " 14.8,\n",
       " 14.1,\n",
       " 15.5,\n",
       " 14.7,\n",
       " 15.4,\n",
       " 14.6,\n",
       " 14.1,\n",
       " 15.6,\n",
       " 15.1]"
      ]
     },
     "execution_count": 17,
     "metadata": {},
     "output_type": "execute_result"
    }
   ],
   "source": [
    "float_list"
   ]
  },
  {
   "cell_type": "code",
   "execution_count": 33,
   "id": "3d70eeda-dac5-4d77-9d00-682920248c25",
   "metadata": {},
   "outputs": [
    {
     "name": "stdout",
     "output_type": "stream",
     "text": [
      "14.98\n"
     ]
    }
   ],
   "source": [
    "list_mean = statistics.mean(float_list)\n",
    "print(list_mean)"
   ]
  },
  {
   "cell_type": "code",
   "execution_count": 35,
   "id": "a3b2c029-9151-4e1c-97be-3bee9c604498",
   "metadata": {},
   "outputs": [],
   "source": [
    "sample_1 = random.choices(float_list,k=5)"
   ]
  },
  {
   "cell_type": "code",
   "execution_count": 37,
   "id": "720e6bdc-125a-4f53-a9bd-42b0b78b6253",
   "metadata": {},
   "outputs": [
    {
     "data": {
      "text/plain": [
       "[15.0, 15.0, 14.3, 15.2, 14.6]"
      ]
     },
     "execution_count": 37,
     "metadata": {},
     "output_type": "execute_result"
    }
   ],
   "source": [
    "sample_1"
   ]
  },
  {
   "cell_type": "code",
   "execution_count": 39,
   "id": "7d962408-3a6e-4fc2-ad8a-695111bc072b",
   "metadata": {},
   "outputs": [
    {
     "name": "stdout",
     "output_type": "stream",
     "text": [
      "14.82\n"
     ]
    }
   ],
   "source": [
    "import statistics\n",
    "sample_1_mean = statistics.mean(sample_1)\n",
    "print(sample_1_mean)"
   ]
  },
  {
   "cell_type": "code",
   "execution_count": 41,
   "id": "21e9bb80-7f63-4e4a-ac88-837680454d8e",
   "metadata": {},
   "outputs": [
    {
     "name": "stdout",
     "output_type": "stream",
     "text": [
      "15.26\n"
     ]
    }
   ],
   "source": [
    "sample_2 = random.sample(float_list,k=5)\n",
    "sample_2_mean = statistics.mean(sample_2)\n",
    "print(sample_2_mean)"
   ]
  },
  {
   "cell_type": "raw",
   "id": "ebdda4fc-4459-4ca0-89ec-f460954a43d8",
   "metadata": {},
   "source": [
    "Probability :\n",
    "\n",
    "\n",
    "Probabilty - chance of an event happening\n",
    "An event is an outcome of an experiment\n",
    "An experiment is a process that is performed to understand and observe possible outcomes.\n",
    "Set of all outcomes of an experiment are known as the sample space.\n",
    "\n",
    "P(A) = M/N\n",
    "Where m = favorable outcomes \n",
    "n= total outcomes possible\n",
    "0<=p(A)<=1\n",
    "\n",
    "\n",
    "Complement of probability is 1 - p(A).\n",
    "If event a is a subset of B then P(A) IS A SUBSET OF P(B)\n",
    "\n",
    "\n",
    "\n",
    "*) Mututally exclusive events :  If one happens then other ones don't happen.\n",
    "    If the events are mutually exclusive if the can be added.\n",
    "1) Addition Rule - Mutually exclusive events \n",
    "P(A U B) = P(A) + P(B)\n",
    "\n",
    "\n",
    "For disjoint events the above rule.\n",
    "\n",
    "\n",
    "\n",
    "\n",
    "In case of not  Mutually  exclusive events \n",
    "P(A U B) = P(A) +P(B) -P(A INTERSECTION B)\n",
    "\n",
    "\n",
    "\n",
    "a car is drawn from a pack of 52 cards. Let events A and B be \n",
    "A: Occurance of a cub card\n",
    "B: Occurance of a red ace card \n",
    "Are they mututally exclusive ?\n",
    "\n",
    "Solution \n",
    "Yes they are mututally exclusive because A intersection B is empty.\n",
    "\n",
    "\n",
    "\n",
    "*) Independent events: If occurance of A is in no way influenced by the occurance of B.\n",
    "\n",
    "Rolling a fair die , Let events be A and B \n",
    "A: Occurance of a an odd prime number \n",
    "B: Occurance of a umber greater than 3.\n",
    "\n",
    "aAre they independent \n",
    "\n",
    "Because p(A) = 1/2\n",
    "p(B) = 1/3\n",
    "\n",
    "then A intersection B is 1/6. so they are independent.\n",
    "\n",
    "\n",
    "\n",
    "\n",
    "\n",
    "Mutually exclusive events are not independent.\n",
    "\n",
    "\n",
    "\n",
    "\n",
    "\n",
    "\n",
    "\n",
    "Experiment -  Procedure that can be repeated , haviing a set of possible outcomes .\n",
    "\n",
    "Trial: Performing an experiment ones. Either sequential or simultaneous.\n",
    "\n",
    "There are two possibkle outcomes of an experiment :\n",
    "1) Deterministic Experiment : Only one possible outcome . Ex: Boiling water to 100 C.\n",
    "\n",
    "2) Random Experiment: More than one possible outcomes. Example: Flipping a coin.\n",
    "\n",
    "\n",
    "\n",
    "\n",
    "Odds: It is the ratio of no of favourable outcome to the no of unfavourable outcome \n",
    "\n",
    "Condtional Probabilty : \n",
    "\n",
    "Conditional probability can apply to both independent and dependent events, but it does not apply to mutually exclusive events in the usual sense. Let’s break down each case:\n",
    "\n",
    "### Independent Events\n",
    "\n",
    "**Independent events** are events where the occurrence of one event does not affect the probability of the other event occurring. For independent events \\(A\\) and \\(B\\), the conditional probability is defined but doesn't change the probability:\n",
    "\n",
    "- **Formula for Independent Events**: \\( P(A \\mid B) = P(A) \\)\n",
    "\n",
    "This means that knowing event \\(B\\) occurred does not change the probability of event \\(A\\) happening. Similarly, \\( P(B \\mid A) = P(B) \\).\n",
    "\n",
    "### Dependent Events\n",
    "\n",
    "**Dependent events** are events where the occurrence of one event affects the probability of the other event occurring. For dependent events \\(A\\) and \\(B\\), the conditional probability is very much applicable and is calculated as:\n",
    "\n",
    "- **Formula for Dependent Events**: \\( P(A \\mid B) = \\frac{P(A \\cap B)}{P(B)} \\), provided \\(P(B) > 0\\).\n",
    "\n",
    "This formula shows how the probability of \\(A\\) changes when we know that \\(B\\) has occurred.\n",
    "\n",
    "### Mutually Exclusive Events\n",
    "\n",
    "**Mutually exclusive events** are events that cannot occur at the same time. If events \\(A\\) and \\(B\\) are mutually exclusive, then \\( P(A \\cap B) = 0 \\). Because the events cannot both occur, knowing that one event has occurred means the probability of the other occurring is zero.\n",
    "\n",
    "- **Conditional Probability for Mutually Exclusive Events**: If \\(A\\) and \\(B\\) are mutually exclusive, then:\n",
    "  - \\( P(A \\mid B) = 0 \\) (if \\(P(B) > 0\\)) because \\(A\\) and \\(B\\) cannot both happen.\n",
    "\n",
    "Since the occurrence of one event completely excludes the other, the conditional probability is zero.\n",
    "\n",
    "### Summary\n",
    "\n",
    "- **Independent Events**: Conditional probability is defined but does not affect the probability of the other event. \\( P(A \\mid B) = P(A) \\) and \\( P(B \\mid A) = P(B) \\).\n",
    "- **Dependent Events**: Conditional probability is relevant and calculated using \\( P(A \\mid B) = \\frac{P(A \\cap B)}{P(B)} \\).\n",
    "- **Mutually Exclusive Events**: Conditional probability is zero because the events cannot happen together. \\( P(A \\mid B) = 0 \\) and \\( P(B \\mid A) = 0 \\).\n",
    "\n",
    "Thus, conditional probability primarily applies to events that are not mutually exclusive, whether they are independent or dependent.\n",
    "\n",
    "P(A | B) = P(A INT B)/P(B)\n",
    "= P(A) .P(B)"
   ]
  },
  {
   "cell_type": "raw",
   "id": "30f45000-42d9-40bb-9394-691837aa0f98",
   "metadata": {},
   "source": [
    "Let A and B be two events:\n",
    "\n",
    "AdditionTheorem: P(A U B) = P(A) +P (B) - P(A int B)\n",
    "Mulitplication theorem :\n",
    "P(A | B)  = P(A int B) /P(B) and vice versa\n",
    "\n"
   ]
  },
  {
   "cell_type": "raw",
   "id": "488d5122-8e2e-43fd-9432-af6578727863",
   "metadata": {},
   "source": [
    "Bayes Theorem : \n",
    "It is based on conditionl probability \n",
    "Used to determine the likelihood of an event givent that another event has occured.\n",
    "\n",
    "Suppose L1, L2, L3 are the production lines of an industry and D is the event that the article manufactured is defective. Given that the article is dfeectiv , we need to find the probabilty that it was produced on whch line.\n",
    "\n",
    "P(Li | D) = P(Li) . P(D|Li)\n",
    "            -----------------\n",
    "            Sum of  ( P(Lj). P(D|Lj)   where j= 1,2,3\n",
    "\n",
    "\n"
   ]
  },
  {
   "cell_type": "code",
   "execution_count": null,
   "id": "38335bcd-c317-4817-a638-8ed74ee49a08",
   "metadata": {},
   "outputs": [],
   "source": []
  },
  {
   "cell_type": "code",
   "execution_count": null,
   "id": "4fc3ffb4-ced5-46d3-b6d0-25c80ba6ee16",
   "metadata": {},
   "outputs": [],
   "source": []
  }
 ],
 "metadata": {
  "kernelspec": {
   "display_name": "Python 3 (ipykernel)",
   "language": "python",
   "name": "python3"
  },
  "language_info": {
   "codemirror_mode": {
    "name": "ipython",
    "version": 3
   },
   "file_extension": ".py",
   "mimetype": "text/x-python",
   "name": "python",
   "nbconvert_exporter": "python",
   "pygments_lexer": "ipython3",
   "version": "3.11.8"
  }
 },
 "nbformat": 4,
 "nbformat_minor": 5
}
