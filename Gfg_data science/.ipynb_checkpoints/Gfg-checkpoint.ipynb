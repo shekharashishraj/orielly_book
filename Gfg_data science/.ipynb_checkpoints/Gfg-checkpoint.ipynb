{
 "cells": [
  {
   "cell_type": "raw",
   "id": "9bdd7440-80d7-4c47-8b75-00ae52a17e87",
   "metadata": {},
   "source": [
    "Analysis of algorithms : \n",
    "The performance of an algorithm depends on hardware , programing language, system load. "
   ]
  },
  {
   "cell_type": "raw",
   "id": "0506ce64-9e0e-43d4-bfe8-5549858c0f29",
   "metadata": {},
   "source": [
    "Asymptotic analysis: \n",
    "-> The idea is to measure order of growth.\n",
    "-> Independent of machine, language etc.\n",
    "-> No need to implement, we can analyze the algorithm\n",
    "\n",
    "There is   a value of n for which later the the algorithm with higher order of growth performs lesser than the lower order of growth algorithm.\n",
    "\n",
    "For ex: Fun1() = 1000\n",
    "fun2() = n+1\n",
    "then n>= 999 \n",
    "The constants c1, c2 c3 matter only till a certain n.\n",
    "\n",
    "\n",
    "Order of Growth:\n",
    "A function F(n) is said to be growing faster than g(n) if lim              g(n)/f(n) = 0 or lim              f(n)/g(n)= infinity \n",
    "                                                            n-> infinity                     n -> infinity \n",
    "\n",
    "n>= 0 , f(n), g(n)\n",
    "\n",
    "c< log log n <log n < n^1/3 < n^1/2 < n < n^2 < n^3v < n4 < 2^n < n^n\n",
    "\n",
    "\n",
    "\n",
    "FOR AN ALGORITHM THAT TAKES DIFFERENT time for different inputs we average the different order of growth for different inputs and average it.\n",
    "\n",
    "Asymtoptic Notations:\n",
    "\n",
    "Big  O : Exact or upper\n",
    "\n",
    "Theta : Exact \n",
    "\n",
    "Omega : Exact or lower\n",
    "\n",
    "\n",
    "\n",
    "\n",
    "1. Big O: \n",
    "dIRECT WAY: *) Ignore lower order terms.\n",
    "*) Ignore leading term constants.\n",
    "we say that f(n) = O(g(n)) iff there exists constant c and n . such that f(n) <= c g(n) \n",
    "for all n >= n0\n",
    "\n",
    "Exaample :\n",
    "f(n) = 2n+3 \n",
    "can be written as O(n) [g(n) =n]\n",
    "let us take c =3 \n",
    "2n+3 <= 3n\n",
    "3< = n \n",
    "we get n0 = 3\n",
    "\n",
    "Note  :  Take the value as the constant of higher order term +1\n",
    "\n",
    "O(1) : { 100, LOG 2000. (10)^4 , ........ } \n",
    "U {n/4, 2n+3, n/100 +logn , n+10000, log n +10 ....} E O(n)\n",
    "U {n^2+n, 2n^2, n^2+1000n .... } E O(N^2)\n",
    "\n",
    "uNION because the upper limit can be anything.\n",
    "\n",
    "For multiple Variables also:\n",
    "100n^2 +1000m + n  : O(n^2+m)\n",
    "1000m^2 + 200 mn + 30m + 20 n : O (m^2  + mn)\n",
    "where m and n tends to infinite\n",
    "\n",
    "\n",
    "Use thta when you have exact bound\n",
    "\n",
    "For Big(O)\n",
    "Find the statement executed the maximum number of times.\n",
    "\n",
    "bool isPrime(int n)\n",
    "{\n",
    "if (n ==1) return false\n",
    "for (int i =5; i*i <=n ; i+=6)\n",
    "if (n%i == 0 || n%(i+2) ==0)\n",
    "    return true;\n",
    "}\n",
    "\n",
    "\n",
    "\n",
    "\n",
    "\n",
    "8) Omega notation:\n",
    "f(n) = Omega(g(n)  iff there exists constants c (where c>0). we can also use theta but it is not good when you only know the lower order.\n",
    "and n0 (where n0 >= 0)\n",
    "such that (g(n) <= f(n) for alll n>= n0\n",
    "f(n) = 2n+3 = omega (n)\n",
    "c =1 \n",
    "n<= 2n+3\n",
    "-3<= n\n",
    "n0 =0 as it lies in the first quadrant\n",
    "\n",
    "in omega take value smaller than the constant with highest order \n",
    "\n",
    "\n",
    "\n",
    "{n, 2n^2+5, 1000n^2 , 2n^3+n,....} E omega (n^2)\n",
    "U { 2n+3, 100n+logn, .....} E omega (n)\n",
    "U {5000, (10)^5, LOG 2000,......} E OMEGA (!)\n",
    "\n",
    "IF  F(N) = O(G(N)\n",
    "    g(n) = omega(f(n))\n",
    "\n",
    "\n",
    "\n",
    "Theta Notation :\n",
    "If f(n) = theta (g(n))  iff there exists constants c1, c2 (where c1> 0 and c2 >0)  and n0 (where n>=0) such taht c1g(n) <= f(n) <= c2(g(n)\n",
    "\n",
    "for all n>=  n0\n",
    "\n",
    "Examplee :  f(n) = 2n+ 3\n",
    "c1 =1, c2 =  3\n",
    "1 *n < = 2n+3 <= 3n    \n",
    "\n",
    "If f(n) = theta (g(N))\n",
    "THEN f(n) = O(g(n)) and f(n) = omega (g(n))\n",
    "also, g(n) = O(f(n)) and g(n) = omega (f(n))\n",
    "\n",
    "Represents Exact Bound \n",
    "\n",
    "{100, 10^5, log 2000, ....} E theta (1)\n",
    "{100n, 2n+logn, 5n+3,...} E O(n)\n",
    "{2N^2, n^2/4+5logn, ....} EA Theta (n\n"
   ]
  },
  {
   "cell_type": "code",
   "execution_count": 31,
   "id": "f5250efd-ff0b-4dff-998e-5d4d354c47cd",
   "metadata": {},
   "outputs": [
    {
     "name": "stdin",
     "output_type": "stream",
     "text": [
      "enter 5\n"
     ]
    },
    {
     "name": "stdout",
     "output_type": "stream",
     "text": [
      "5\n",
      "5\n",
      "5\n",
      "5\n",
      "5\n",
      "5\n",
      "5\n",
      "5\n",
      "5\n",
      "5\n",
      "5\n",
      "5\n",
      "3\n"
     ]
    }
   ],
   "source": [
    "c = 2\n",
    "n = int(input(\"enter\"))\n",
    "for i in range(0,n,1):\n",
    "    print(n)\n",
    "# The time complexity is theta (n)\n",
    "\n",
    "\n",
    "for i in range(n,0,-1):\n",
    "    print(n)\n",
    "\n",
    "# again same Complexity \n",
    "for i in range(1,n,i*2):\n",
    "    print(n)\n",
    "# here the time complexity is logc(n)\n",
    "'''\n",
    "suppose the loop runs k times then c^0 ,c,c, ...., c^k-1 (loop runs k times , then c will grow by k times)\n",
    "c^(k-1) < n\n",
    "K < logc(n) +1\n",
    "so complexity : Theta (logc(n))\n",
    "\n",
    "'''\n",
    "for i in range(n,0,n//c):\n",
    "    print(n)\n",
    "# again it is \n",
    "'''\n",
    "{n/c^0,n/c,n/c^2} >1 \n",
    "n/c^(k-1) < n\n",
    "k-1 < logc(n)\n",
    "k < logc(n) +1\n",
    "O(logc(n))\n",
    "   '''\n",
    "\n",
    "\n",
    "'''\n",
    "Complex exampe :  To study \n",
    "'''\n",
    "while i <n:\n",
    "    print(i)\n",
    "    i = pow(i,c)"
   ]
  },
  {
   "cell_type": "raw",
   "id": "967d6868-b3cd-45bb-a05f-6e4164e444b2",
   "metadata": {},
   "source": [
    "c = 2\n",
    "n = 33\n",
    "i = 2\n",
    "for i in range(2, 33,pow( i,2)):# This third term , that is the step size will always be added or subtracted\n",
    "    print(\"last example\")\n",
    "    print(i)\n",
    "    #q = pow(i,2)\n",
    "#Not working because range makes it traverse through a range of values\n"
   ]
  },
  {
   "cell_type": "code",
   "execution_count": 23,
   "id": "cfef9812-adf0-48b4-9b49-0aa5e01b26f6",
   "metadata": {},
   "outputs": [
    {
     "data": {
      "text/plain": [
       "4"
      ]
     },
     "execution_count": 23,
     "metadata": {},
     "output_type": "execute_result"
    }
   ],
   "source": [
    "pow(2,2)"
   ]
  },
  {
   "cell_type": "code",
   "execution_count": 35,
   "id": "a2209944-effd-4005-a9f3-fad0105253c6",
   "metadata": {},
   "outputs": [
    {
     "name": "stdout",
     "output_type": "stream",
     "text": [
      "2\n",
      "4\n",
      "16\n"
     ]
    }
   ],
   "source": [
    "c = 2\n",
    "n = 33\n",
    "i = 2\n",
    "while i <n:\n",
    "    print(i)\n",
    "    i = pow(i,c)"
   ]
  },
  {
   "cell_type": "raw",
   "id": "83389d07-4674-4a39-a8f6-eb7a414e8398",
   "metadata": {},
   "source": [
    "so 2, 2 ^c, (2^c)^c,..... , ((2^c)^c)^c).....\n",
    "2c^0, 2c^1, 2c^2,........, 2^c^k-1\n",
    "2^c^(k-1) <  n\n",
    "c^k-1 < log2 n\n",
    "k-1 < logc log2(n)\n",
    "k<logclog2(n)+1\n",
    "theta(loglogn )\n"
   ]
  },
  {
   "cell_type": "code",
   "execution_count": null,
   "id": "05503705-352a-4106-bb77-b24e95010213",
   "metadata": {},
   "outputs": [],
   "source": []
  },
  {
   "cell_type": "markdown",
   "id": "9113cffc-49cd-4b2d-ab36-073efe3b9118",
   "metadata": {},
   "source": [
    "Analysis of multiple loops "
   ]
  },
  {
   "cell_type": "raw",
   "id": "35c9959a-8071-4f07-9a15-8379d91da750",
   "metadata": {},
   "source": [
    "\n",
    "\n",
    "void fun(int n)\n",
    "{\n",
    "for i in range(0,n,1):            -> Theta (n)\n",
    "    print(n)               \n",
    "while i < n:                     -> theta (log n)\n",
    "    print(i)\n",
    "    i =i *2\n",
    "for i in range(1, 100,1):        -> theta (1)\n",
    "    print(i)\n",
    "}\n",
    "\n",
    "\n",
    "SO if loops are not nested just add them and ignore the lower order terms , so the time complexity of this function is Theta(n).\n",
    "\n",
    "For nested loop\n",
    "\n",
    "then multiply the loops \n",
    "\n",
    "void fun(int n)\n",
    "{\n",
    "for i in  range(0,n):           ->  Theta (n)\n",
    "  {  while j < n:\n",
    "    {    print(j)                   theta(logn)\n",
    "        j = j*2\n",
    "}}\n",
    "Total complexity Theta n logn\n",
    "\n",
    "\n",
    "if time complexity of one part is O(nlogn)  and other part is O(m^2)\n",
    "then the total complexity is O(nlogn + m^2)\n",
    "\n",
    "\n"
   ]
  },
  {
   "cell_type": "markdown",
   "id": "cb85e242-ac26-44e2-9408-b4e38944a4ea",
   "metadata": {},
   "source": [
    "Analysis of Recursion"
   ]
  },
  {
   "cell_type": "raw",
   "id": "faa9b9fe-0a3c-43fe-98df-3e775313c32e",
   "metadata": {},
   "source": [
    "First step is to write recurrance relation\n",
    "\n",
    "ASSUME FUNCTION TAKE T(n) = T(n/2) +T(n/2) + O(1)\n",
    "ELSE if n <= 0 \n",
    "T(n) = O (1)\n",
    "\n",
    "T(n) = 2T(n/2) + O (1)\n",
    "\n",
    "T(O) = 0(1) \n"
   ]
  },
  {
   "cell_type": "raw",
   "id": "b4c179b2-372b-4bb5-b6a7-6d1a75d99d46",
   "metadata": {},
   "source": [
    "void fun(int n)\n",
    "{\n",
    "if (n<=0)\n",
    "    return ;\n",
    "for (int i =0 ,i< n; i++)\n",
    "    print(\"Gfg\");\n",
    "fun(n/2)\n",
    "fun(n/3)}\n",
    "\n",
    "\n",
    "Recurrance relation:\n",
    "\n",
    "T (n) = T(n/2) +T(n/3) + 0(n)\n",
    "T(0) = 0(1)"
   ]
  },
  {
   "cell_type": "raw",
   "id": "43e3538e-a571-4c5d-af5f-b22c29038128",
   "metadata": {},
   "source": [
    "void fun(int n) \n",
    "{\n",
    "    if (n<= 1)\n",
    "    return ;\n",
    "print(\"gfg\")\n",
    "fun(n-1);\n",
    "}\n",
    "\n",
    "T(n) = T(n-1) + 0(1)\n",
    "T(O) = 0(1)"
   ]
  },
  {
   "cell_type": "raw",
   "id": "f6edaa60-f2e7-4aa5-abed-7a8c727475c3",
   "metadata": {},
   "source": [
    "Recursion Treen method for solving recurrences\n",
    "-> We consider the recurison tree and compute total work done.\n",
    "-> We write non- recursive part as the root of the tree and writte the recurisive part as children.\n",
    "-> We keep expanding until we see a pattern.\n",
    "\n",
    "T(n) = T(n/2)+ cn\n",
    "T(1) = C\n",
    "\n",
    "                CN                                      - cn\n",
    "            /           \\\n",
    "        cn/2           cn/2                             - cn\n",
    "     /       \\        /     \\\n",
    "T(n/4)      T(n/4)  T(n/4)  T(n/4)                      -  cn\n",
    "..           ........ ..\n",
    "....\n",
    "\n",
    "......\n",
    "c  ... c\n"
   ]
  },
  {
   "cell_type": "raw",
   "id": "f7979be1-b13c-46b0-87b9-3afd92514b13",
   "metadata": {},
   "source": [
    " T(n) = T(n/4) + T(n/2) +cn\n",
    "T(1) = c\n",
    "                  cn                         -cn\n",
    "                /        \\\n",
    "            T(N/4)          T(N/2)             -c3n/4\n",
    "        /     \\           /       \\\n",
    "    T(N/16)   T(N(8)    T(N/8)   T(N/4)        - c9n/16\n",
    "\n",
    "\n",
    "\n",
    "cn + 3cn/4 + 9cn/16+ .....\n",
    "\n",
    "terms: 0(logn)\n",
    "\n",
    "Infinite sum  = O(cn/(1-3/4))\n",
    "o(n)\n"
   ]
  },
  {
   "cell_type": "markdown",
   "id": "5ceeed12-b219-4ba5-8d4b-b848e0751304",
   "metadata": {},
   "source": [
    "Space Complexity "
   ]
  },
  {
   "cell_type": "code",
   "execution_count": 77,
   "id": "f164e194-5b4b-4a65-81f7-35e94aa72023",
   "metadata": {},
   "outputs": [
    {
     "data": {
      "text/plain": [
       "3"
      ]
     },
     "execution_count": 77,
     "metadata": {},
     "output_type": "execute_result"
    }
   ],
   "source": [
    "\"\"\"\n",
    "Order of growth of memory(or ram) space in terms of input size\n",
    "\n",
    "\n",
    "Auxiliary space :  Order of growth of extra space or temprorary space in terms of input size.\n",
    "\"\"\"\n",
    "\n",
    "\n",
    "\"\"\"\n",
    "AT any moment we needed the same amount of space as n so Space complexity is 0(n)\n",
    "\n",
    "\n",
    "\"\"\"\n",
    "\n",
    "def fibonacci(n):\n",
    "    if n==0 or n==1:\n",
    "        return n\n",
    "    return fibonacci(n-1) + fibonacci(n-2)\n",
    "\n",
    "fibonacci(4)\n",
    "\n"
   ]
  },
  {
   "cell_type": "code",
   "execution_count": 147,
   "id": "d5a0cd39-4033-49a7-9e11-561bed35b89c",
   "metadata": {},
   "outputs": [],
   "source": [
    "def fib2(n):\n",
    "    f = [0 for i in range(n+1)]\n",
    "    f[0]=0\n",
    "    f[1]=1\n",
    "    for i in range(2,n+1):\n",
    "        f[i]=f[i-1]+ f[i-2]\n",
    "        #print(f[i])\n",
    "    return f[n]\n",
    "    #So this array takes auxiliary is 0((n)"
   ]
  },
  {
   "cell_type": "code",
   "execution_count": 149,
   "id": "af6f2ff7-1e4a-44f7-8f86-3cd02b2360f9",
   "metadata": {},
   "outputs": [
    {
     "data": {
      "text/plain": [
       "3"
      ]
     },
     "execution_count": 149,
     "metadata": {},
     "output_type": "execute_result"
    }
   ],
   "source": [
    "fib2(4)"
   ]
  },
  {
   "cell_type": "code",
   "execution_count": 171,
   "id": "f2dd3ad1-bb92-4bdf-9acc-aadcbc61e4be",
   "metadata": {},
   "outputs": [
    {
     "data": {
      "text/plain": [
       "3"
      ]
     },
     "execution_count": 171,
     "metadata": {},
     "output_type": "execute_result"
    }
   ],
   "source": [
    "def fib3(n):\n",
    "    if n ==0 or n==1:\n",
    "        return n\n",
    "    a,b =0,1\n",
    "    for i in range(2, n+1):\n",
    "        c=a+b\n",
    "        a,b=b,c\n",
    "    return c\n",
    "fib3(4)\n",
    "\n",
    "#0(1) is the auxiliary space."
   ]
  },
  {
   "cell_type": "markdown",
   "id": "1e35c2cc-f7e9-40e2-84d2-1b16bb50e8af",
   "metadata": {},
   "source": [
    "#Understanding reference error in python\n",
    "\n",
    "The UnboundLocalError occurs because Python cannot use a variable before it has been assigned a value. In your original code:\n",
    "\n",
    "python\n",
    "Copy code\n",
    "def fib4(n):\n",
    "    a, b = 0, 1\n",
    "    for i in range(2, n + 1):\n",
    "        c, a, b = a + b, b, c\n",
    "    return c\n",
    "The line c, a, b = a + b, b, c is trying to assign a value to c while simultaneously trying to use the current value of c for the assignment of b. Since c hasn't been initialized yet, Python raises an UnboundLocalError.\n",
    "\n",
    "Here is the corrected code using the original structure but properly initializing c:\n",
    "\n",
    "python\n",
    "Copy code\n",
    "def fib4(n):\n",
    "    a, b = 0, 1\n",
    "    c = 0  # Initialize c to avoid UnboundLocalError\n",
    "    for i in range(2, n + 1):\n",
    "        c, a, b = a + b, b, a + b  # Correct assignment\n",
    "    return c\n",
    "This initialization ensures that c is defined before it is used in the loop, preventing the UnboundLocalError.\n",
    "\n",
    "\n",
    "but in that order wise first c is getting a value  a+b right or the order of execution is different\n",
    "ChatGPT\n",
    "Yes, you're correct that in the assignment c, a, b = a + b, b, c, the evaluation and assignment of values happen from right to left in a single statement. This means that the right-hand side expressions are evaluated before any assignments occur.\n",
    "\n",
    "However, the issue arises because c is used in the right-hand side before it is assigned a value. To illustrate:\n",
    "\n",
    "The right-hand side a + b, b, c is evaluated first.\n",
    "a + b is evaluated as a new value.\n",
    "b is simply the current value of b.\n",
    "c needs to be the current value of c, but c hasn't been assigned yet, causing the error.\n",
    "To fix the issue while maintaining the original structure and logic, you can initialize c before the loop starts. Here’s the revised code:\n",
    "\n",
    "python\n",
    "Copy code\n",
    "def fib4(n):\n",
    "    if n <= 0:\n",
    "        return 0\n",
    "    elif n == 1:\n",
    "        return 1\n",
    "    a, b = 0, 1\n",
    "    c = a + b  # Initialize c correctly\n",
    "    for i in range(2, n + 1):\n",
    "        c, a, b = a + b, b, a + b\n",
    "    return c\n",
    "However, initializing c in this way within the loop might seem redundant because you want to calculate c based on the updated a and b. A more streamlined way would be to initialize c to a valid Fibonacci value (like 0 or 1) and then use the correct logic within the loop:\n",
    "\n",
    "python\n",
    "Copy code\n",
    "def fib4(n):\n",
    "    if n <= 0:\n",
    "        return 0\n",
    "    elif n == 1:\n",
    "        return 1\n",
    "    a, b = 0, 1\n",
    "    for i in range(2, n + 1):\n",
    "        c = a + b\n",
    "        a, b = b, c\n",
    "    return b\n",
    "This version ensures that c is correctly initialized and updated within the loop, and returns the correct Fibonacci number.\n",
    "\n",
    "\n",
    "\n",
    "\n",
    "\n",
    "\n"
   ]
  },
  {
   "cell_type": "code",
   "execution_count": 174,
   "id": "f01c031c-c9f3-4d8b-a210-56ab89709921",
   "metadata": {},
   "outputs": [],
   "source": [
    "def fib4(n):\n",
    "    if n ==0 or n==1:\n",
    "        return n\n",
    "    a,b =0,1\n",
    "    for i in range(2, n+1):\n",
    "        c,a,b=a+b,b,c\n",
    "    return c"
   ]
  },
  {
   "cell_type": "code",
   "execution_count": 176,
   "id": "6b7f386a-3947-4b37-b6dd-2a89c4ca35e8",
   "metadata": {},
   "outputs": [
    {
     "ename": "UnboundLocalError",
     "evalue": "cannot access local variable 'c' where it is not associated with a value",
     "output_type": "error",
     "traceback": [
      "\u001b[0;31m---------------------------------------------------------------------------\u001b[0m",
      "\u001b[0;31mUnboundLocalError\u001b[0m                         Traceback (most recent call last)",
      "Cell \u001b[0;32mIn[176], line 1\u001b[0m\n\u001b[0;32m----> 1\u001b[0m fib4(\u001b[38;5;241m4\u001b[39m)\n",
      "Cell \u001b[0;32mIn[174], line 6\u001b[0m, in \u001b[0;36mfib4\u001b[0;34m(n)\u001b[0m\n\u001b[1;32m      4\u001b[0m a,b \u001b[38;5;241m=\u001b[39m\u001b[38;5;241m0\u001b[39m,\u001b[38;5;241m1\u001b[39m\n\u001b[1;32m      5\u001b[0m \u001b[38;5;28;01mfor\u001b[39;00m i \u001b[38;5;129;01min\u001b[39;00m \u001b[38;5;28mrange\u001b[39m(\u001b[38;5;241m2\u001b[39m, n\u001b[38;5;241m+\u001b[39m\u001b[38;5;241m1\u001b[39m):\n\u001b[0;32m----> 6\u001b[0m     c,a,b\u001b[38;5;241m=\u001b[39ma\u001b[38;5;241m+\u001b[39mb,b,c\n\u001b[1;32m      7\u001b[0m \u001b[38;5;28;01mreturn\u001b[39;00m c\n",
      "\u001b[0;31mUnboundLocalError\u001b[0m: cannot access local variable 'c' where it is not associated with a value"
     ]
    }
   ],
   "source": [
    "fib4(4)"
   ]
  },
  {
   "cell_type": "code",
   "execution_count": 178,
   "id": "17d19493-e48c-4c8e-8806-b27ca2e56110",
   "metadata": {},
   "outputs": [
    {
     "name": "stdout",
     "output_type": "stream",
     "text": [
      "1542840\n"
     ]
    }
   ],
   "source": [
    "print(78*23*43*20) # print means display to the screen "
   ]
  },
  {
   "cell_type": "code",
   "execution_count": 182,
   "id": "d381146d-afbf-49fd-9c11-08db52c16ead",
   "metadata": {},
   "outputs": [
    {
     "data": {
      "text/plain": [
       "[1,\n",
       " 4,\n",
       " 9,\n",
       " 16,\n",
       " 25,\n",
       " 36,\n",
       " 49,\n",
       " 64,\n",
       " 81,\n",
       " 100,\n",
       " 121,\n",
       " 144,\n",
       " 169,\n",
       " 196,\n",
       " 225,\n",
       " 256,\n",
       " 289,\n",
       " 324,\n",
       " 361,\n",
       " 400,\n",
       " 441,\n",
       " 484,\n",
       " 529,\n",
       " 576,\n",
       " 625,\n",
       " 676,\n",
       " 729,\n",
       " 784,\n",
       " 841,\n",
       " 900,\n",
       " 961,\n",
       " 1024,\n",
       " 1089,\n",
       " 1156,\n",
       " 1225,\n",
       " 1296,\n",
       " 1369,\n",
       " 1444,\n",
       " 1521,\n",
       " 1600,\n",
       " 1681,\n",
       " 1764,\n",
       " 1849,\n",
       " 1936,\n",
       " 2025,\n",
       " 2116,\n",
       " 2209,\n",
       " 2304,\n",
       " 2401,\n",
       " 2500]"
      ]
     },
     "execution_count": 182,
     "metadata": {},
     "output_type": "execute_result"
    }
   ],
   "source": [
    "# Print the squares of first 20 natural numbers \n",
    "[i*i for i in range(1,51)]   "
   ]
  },
  {
   "cell_type": "code",
   "execution_count": 184,
   "id": "84da147e-dd09-46f9-b239-a8dcdd47b702",
   "metadata": {},
   "outputs": [
    {
     "name": "stdout",
     "output_type": "stream",
     "text": [
      "Hello to my friends who have gathered to learn python\n"
     ]
    }
   ],
   "source": [
    "print(\"Hello to my friends who have gathered to learn python\")"
   ]
  },
  {
   "cell_type": "code",
   "execution_count": 190,
   "id": "27264f58-d903-40e5-afda-e678f2cf4c22",
   "metadata": {},
   "outputs": [
    {
     "name": "stdin",
     "output_type": "stream",
     "text": [
      "Enter M or F afsefsdfvjkbnsfghi\n"
     ]
    },
    {
     "name": "stdout",
     "output_type": "stream",
     "text": [
      "Wrong Response\n"
     ]
    }
   ],
   "source": [
    "gender = input(\"Enter M or F\")\n",
    "if gender == 'M':\n",
    "    print(\"It is a Male\")\n",
    "elif gender == 'F':\n",
    "    print(\"It's a Female\")\n",
    "else:\n",
    "    print(\"Wrong Response\")"
   ]
  },
  {
   "cell_type": "markdown",
   "id": "f76a93e1-0f8f-4f33-bc49-86fe48c5e50c",
   "metadata": {},
   "source": [
    "Recursion\n"
   ]
  },
  {
   "cell_type": "raw",
   "id": "033b6b85-c1f3-483d-a284-6e7044a4ba45",
   "metadata": {},
   "source": [
    "It is the case when a function calls itself directly or indirectly\n",
    "There should always be a base condition or terminating condition.\n",
    "#direct recursion\n",
    "def fun1():\n",
    "    fun1()\n",
    "\n",
    "#indirect recursion\n",
    "def fun1(():\n",
    "    fun2()\n",
    "def fun2():\n",
    "    fun1()"
   ]
  },
  {
   "cell_type": "code",
   "execution_count": 193,
   "id": "7c31d371-746d-4d1a-97e2-a8f448a2606c",
   "metadata": {},
   "outputs": [
    {
     "name": "stdout",
     "output_type": "stream",
     "text": [
      "ARS\n",
      "ARS\n"
     ]
    }
   ],
   "source": [
    "def fun1(n):\n",
    "    if n ==0:\n",
    "        return\n",
    "    print(\"ARS\")\n",
    "    fun1(n-1)\n",
    "\n",
    "fun1(2)"
   ]
  },
  {
   "cell_type": "raw",
   "id": "dd13e90e-ceea-4a8d-8662-4e9a0184b2af",
   "metadata": {},
   "source": [
    "Applications of recursion\n",
    "1. Many algorithm techniques are based on recursion\n",
    "    1.1 Dynamic Programming\n",
    "    1.2 Backtracking\n",
    "    1.3 Divide and conquer (Binary Search , Quick Sort,and  Merge sort).\n",
    "2. Many Problems are inherintly recursive.\n",
    "    2.1 Tower of Hanoi\n",
    "    2.2 dfs based traversal.\n",
    "\n",
    "\n",
    " Every iterative code can be written as recursive solution and vice versa.\n",
    "\n",
    "\n"
   ]
  },
  {
   "cell_type": "code",
   "execution_count": 195,
   "id": "ac9820fb-3b6a-458f-9e90-ea487b0af36a",
   "metadata": {},
   "outputs": [
    {
     "name": "stdout",
     "output_type": "stream",
     "text": [
      "3\n",
      "2\n",
      "1\n",
      "1\n",
      "2\n",
      "3\n"
     ]
    }
   ],
   "source": [
    "# Recursive outputs\n",
    "def fun(n):\n",
    "    if n == 0:\n",
    "        return \n",
    "    print(n)\n",
    "    fun(n-1)\n",
    "    print(n)\n",
    "fun(3)"
   ]
  },
  {
   "cell_type": "code",
   "execution_count": 197,
   "id": "0db0da0e-5c86-4d12-a487-442e5cc54b5d",
   "metadata": {},
   "outputs": [
    {
     "name": "stdout",
     "output_type": "stream",
     "text": [
      "1\n",
      "2\n",
      "1\n",
      "3\n",
      "1\n",
      "2\n",
      "1\n"
     ]
    }
   ],
   "source": [
    "#Example 2\n",
    "def fun(n):\n",
    "    if n == 0:\n",
    "        return\n",
    "    fun(n-1)\n",
    "    print(n)\n",
    "    fun(n-1)\n",
    "fun(3)\n",
    "# output guess \n",
    "# 1,"
   ]
  },
  {
   "cell_type": "code",
   "execution_count": 199,
   "id": "70874a90-d870-4975-a91c-b746aa6bc41b",
   "metadata": {},
   "outputs": [
    {
     "data": {
      "text/plain": [
       "4"
      ]
     },
     "execution_count": 199,
     "metadata": {},
     "output_type": "execute_result"
    }
   ],
   "source": [
    "def fun(n):\n",
    "    if n ==1:\n",
    "        return 0\n",
    "    else:\n",
    "        return 1+fun(n/2)\n",
    "fun(16)"
   ]
  },
  {
   "cell_type": "code",
   "execution_count": 205,
   "id": "79a53ece-e08d-437d-9be0-e39bca585f5e",
   "metadata": {},
   "outputs": [
    {
     "name": "stdout",
     "output_type": "stream",
     "text": [
      "5e-324\n",
      "1e-323\n",
      "1.5e-323\n",
      "3e-323\n",
      "6.4e-323\n",
      "1.3e-322\n",
      "2.57e-322\n",
      "5.14e-322\n",
      "1.03e-321\n",
      "2.055e-321\n",
      "4.11e-321\n",
      "8.22e-321\n",
      "1.6443e-320\n",
      "3.2885e-320\n",
      "6.577e-320\n",
      "1.3154e-319\n",
      "2.6308e-319\n",
      "5.2616e-319\n",
      "1.05232e-318\n",
      "2.10464e-318\n",
      "4.20928e-318\n",
      "8.41856e-318\n",
      "1.6837125e-317\n",
      "3.367425e-317\n",
      "6.73485e-317\n",
      "1.34697e-316\n",
      "2.69393997e-316\n",
      "5.38787994e-316\n",
      "1.07757599e-315\n",
      "2.155151975e-315\n",
      "4.31030395e-315\n",
      "8.6206079e-315\n",
      "1.72412158e-314\n",
      "3.4482431603e-314\n",
      "6.8964863206e-314\n",
      "1.37929726413e-313\n",
      "2.75859452825e-313\n",
      "5.5171890565e-313\n",
      "1.1034378113e-312\n",
      "2.206875622604e-312\n",
      "4.41375124521e-312\n",
      "8.827502490416e-312\n",
      "1.765500498083e-311\n",
      "3.531000996166e-311\n",
      "7.0620019923324e-311\n",
      "1.4124003984665e-310\n",
      "2.82480079693297e-310\n",
      "5.64960159386594e-310\n",
      "1.12992031877319e-309\n",
      "2.259840637546376e-309\n",
      "4.519681275092753e-309\n",
      "9.039362550185506e-309\n",
      "1.807872510037101e-308\n",
      "3.6157450200742022e-308\n",
      "7.2314900401484045e-308\n",
      "1.4462980080296809e-307\n",
      "2.8925960160593618e-307\n",
      "5.7851920321187236e-307\n",
      "1.1570384064237447e-306\n",
      "2.3140768128474894e-306\n",
      "4.628153625694979e-306\n",
      "9.256307251389958e-306\n",
      "1.8512614502779916e-305\n",
      "3.702522900555983e-305\n",
      "7.405045801111966e-305\n",
      "1.4810091602223932e-304\n",
      "2.9620183204447865e-304\n",
      "5.924036640889573e-304\n",
      "1.1848073281779146e-303\n",
      "2.3696146563558292e-303\n",
      "4.7392293127116584e-303\n",
      "9.478458625423317e-303\n",
      "1.8956917250846633e-302\n",
      "3.7913834501693267e-302\n",
      "7.582766900338653e-302\n",
      "1.5165533800677307e-301\n",
      "3.0331067601354614e-301\n",
      "6.066213520270923e-301\n",
      "1.2132427040541845e-300\n",
      "2.426485408108369e-300\n",
      "4.852970816216738e-300\n",
      "9.705941632433476e-300\n",
      "1.9411883264866953e-299\n",
      "3.8823766529733905e-299\n",
      "7.764753305946781e-299\n",
      "1.5529506611893562e-298\n",
      "3.1059013223787124e-298\n",
      "6.211802644757425e-298\n",
      "1.242360528951485e-297\n",
      "2.48472105790297e-297\n",
      "4.96944211580594e-297\n",
      "9.93888423161188e-297\n",
      "1.987776846322376e-296\n",
      "3.975553692644752e-296\n",
      "7.951107385289504e-296\n",
      "1.5902214770579008e-295\n",
      "3.1804429541158015e-295\n",
      "6.360885908231603e-295\n",
      "1.2721771816463206e-294\n",
      "2.5443543632926412e-294\n",
      "5.0887087265852824e-294\n",
      "1.0177417453170565e-293\n",
      "2.035483490634113e-293\n",
      "4.070966981268226e-293\n",
      "8.141933962536452e-293\n",
      "1.6283867925072904e-292\n",
      "3.2567735850145808e-292\n",
      "6.5135471700291615e-292\n",
      "1.3027094340058323e-291\n",
      "2.6054188680116646e-291\n",
      "5.210837736023329e-291\n",
      "1.0421675472046658e-290\n",
      "2.0843350944093317e-290\n",
      "4.1686701888186634e-290\n",
      "8.337340377637327e-290\n",
      "1.6674680755274654e-289\n",
      "3.3349361510549307e-289\n",
      "6.669872302109861e-289\n",
      "1.3339744604219723e-288\n",
      "2.6679489208439446e-288\n",
      "5.335897841687889e-288\n",
      "1.0671795683375778e-287\n",
      "2.1343591366751556e-287\n",
      "4.2687182733503113e-287\n",
      "8.537436546700623e-287\n",
      "1.7074873093401245e-286\n",
      "3.414974618680249e-286\n",
      "6.829949237360498e-286\n",
      "1.3659898474720996e-285\n",
      "2.7319796949441992e-285\n",
      "5.4639593898883985e-285\n",
      "1.0927918779776797e-284\n",
      "2.1855837559553594e-284\n",
      "4.371167511910719e-284\n",
      "8.742335023821438e-284\n",
      "1.7484670047642875e-283\n",
      "3.496934009528575e-283\n",
      "6.99386801905715e-283\n",
      "1.39877360381143e-282\n",
      "2.79754720762286e-282\n",
      "5.59509441524572e-282\n",
      "1.119018883049144e-281\n",
      "2.238037766098288e-281\n",
      "4.476075532196576e-281\n",
      "8.952151064393152e-281\n",
      "1.7904302128786304e-280\n",
      "3.580860425757261e-280\n",
      "7.161720851514522e-280\n",
      "1.4323441703029043e-279\n",
      "2.8646883406058087e-279\n",
      "5.729376681211617e-279\n",
      "1.1458753362423235e-278\n",
      "2.291750672484647e-278\n",
      "4.583501344969294e-278\n",
      "9.167002689938588e-278\n",
      "1.8334005379877175e-277\n",
      "3.666801075975435e-277\n",
      "7.33360215195087e-277\n",
      "1.466720430390174e-276\n",
      "2.933440860780348e-276\n",
      "5.866881721560696e-276\n",
      "1.1733763443121392e-275\n",
      "2.3467526886242784e-275\n",
      "4.693505377248557e-275\n",
      "9.387010754497114e-275\n",
      "1.8774021508994228e-274\n",
      "3.7548043017988455e-274\n",
      "7.509608603597691e-274\n",
      "1.5019217207195382e-273\n",
      "3.0038434414390764e-273\n",
      "6.007686882878153e-273\n",
      "1.2015373765756306e-272\n",
      "2.403074753151261e-272\n",
      "4.806149506302522e-272\n",
      "9.612299012605045e-272\n",
      "1.922459802521009e-271\n",
      "3.844919605042018e-271\n",
      "7.689839210084036e-271\n",
      "1.5379678420168071e-270\n",
      "3.0759356840336142e-270\n",
      "6.1518713680672285e-270\n",
      "1.2303742736134457e-269\n",
      "2.4607485472268914e-269\n",
      "4.921497094453783e-269\n",
      "9.842994188907566e-269\n",
      "1.968598837781513e-268\n",
      "3.937197675563026e-268\n",
      "7.874395351126052e-268\n",
      "1.5748790702252105e-267\n",
      "3.149758140450421e-267\n",
      "6.299516280900842e-267\n",
      "1.2599032561801684e-266\n",
      "2.5198065123603368e-266\n",
      "5.0396130247206736e-266\n",
      "1.0079226049441347e-265\n",
      "2.0158452098882694e-265\n",
      "4.031690419776539e-265\n",
      "8.063380839553078e-265\n",
      "1.6126761679106155e-264\n",
      "3.225352335821231e-264\n",
      "6.450704671642462e-264\n",
      "1.2901409343284924e-263\n",
      "2.580281868656985e-263\n",
      "5.16056373731397e-263\n",
      "1.032112747462794e-262\n",
      "2.064225494925588e-262\n",
      "4.128450989851176e-262\n",
      "8.256901979702352e-262\n",
      "1.6513803959404703e-261\n",
      "3.3027607918809406e-261\n",
      "6.605521583761881e-261\n",
      "1.3211043167523763e-260\n",
      "2.6422086335047525e-260\n",
      "5.284417267009505e-260\n",
      "1.056883453401901e-259\n",
      "2.113766906803802e-259\n",
      "4.227533813607604e-259\n",
      "8.455067627215208e-259\n",
      "1.6910135254430416e-258\n",
      "3.382027050886083e-258\n",
      "6.764054101772166e-258\n",
      "1.3528108203544333e-257\n",
      "2.7056216407088666e-257\n",
      "5.411243281417733e-257\n",
      "1.0822486562835466e-256\n",
      "2.1644973125670933e-256\n",
      "4.3289946251341865e-256\n",
      "8.657989250268373e-256\n",
      "1.7315978500536746e-255\n",
      "3.463195700107349e-255\n",
      "6.926391400214698e-255\n",
      "1.3852782800429397e-254\n",
      "2.7705565600858794e-254\n",
      "5.541113120171759e-254\n",
      "1.1082226240343517e-253\n",
      "2.2164452480687035e-253\n",
      "4.432890496137407e-253\n",
      "8.865780992274814e-253\n",
      "1.7731561984549628e-252\n",
      "3.5463123969099256e-252\n",
      "7.092624793819851e-252\n",
      "1.4185249587639702e-251\n",
      "2.8370499175279405e-251\n",
      "5.674099835055881e-251\n",
      "1.1348199670111762e-250\n",
      "2.2696399340223524e-250\n",
      "4.539279868044705e-250\n",
      "9.07855973608941e-250\n",
      "1.815711947217882e-249\n",
      "3.631423894435764e-249\n",
      "7.262847788871528e-249\n",
      "1.4525695577743055e-248\n",
      "2.905139115548611e-248\n",
      "5.810278231097222e-248\n",
      "1.1620556462194444e-247\n",
      "2.3241112924388888e-247\n",
      "4.6482225848777777e-247\n",
      "9.296445169755555e-247\n",
      "1.859289033951111e-246\n",
      "3.718578067902222e-246\n",
      "7.437156135804444e-246\n",
      "1.4874312271608889e-245\n",
      "2.9748624543217777e-245\n",
      "5.9497249086435554e-245\n",
      "1.1899449817287111e-244\n",
      "2.3798899634574222e-244\n",
      "4.7597799269148443e-244\n",
      "9.519559853829689e-244\n",
      "1.9039119707659377e-243\n",
      "3.8078239415318755e-243\n",
      "7.615647883063751e-243\n",
      "1.5231295766127502e-242\n",
      "3.0462591532255004e-242\n",
      "6.092518306451001e-242\n",
      "1.2185036612902002e-241\n",
      "2.4370073225804003e-241\n",
      "4.8740146451608006e-241\n",
      "9.748029290321601e-241\n",
      "1.9496058580643202e-240\n",
      "3.8992117161286405e-240\n",
      "7.798423432257281e-240\n",
      "1.5596846864514562e-239\n",
      "3.1193693729029124e-239\n",
      "6.238738745805825e-239\n",
      "1.247747749161165e-238\n",
      "2.49549549832233e-238\n",
      "4.99099099664466e-238\n",
      "9.98198199328932e-238\n",
      "1.996396398657864e-237\n",
      "3.992792797315728e-237\n",
      "7.985585594631456e-237\n",
      "1.5971171189262911e-236\n",
      "3.1942342378525823e-236\n",
      "6.388468475705165e-236\n",
      "1.277693695141033e-235\n",
      "2.555387390282066e-235\n",
      "5.110774780564132e-235\n",
      "1.0221549561128263e-234\n",
      "2.0443099122256527e-234\n",
      "4.0886198244513053e-234\n",
      "8.177239648902611e-234\n",
      "1.6354479297805221e-233\n",
      "3.2708958595610443e-233\n",
      "6.5417917191220885e-233\n",
      "1.3083583438244177e-232\n",
      "2.6167166876488354e-232\n",
      "5.233433375297671e-232\n",
      "1.0466866750595342e-231\n",
      "2.0933733501190683e-231\n",
      "4.1867467002381367e-231\n",
      "8.373493400476273e-231\n",
      "1.6746986800952547e-230\n",
      "3.3493973601905093e-230\n",
      "6.698794720381019e-230\n",
      "1.3397589440762037e-229\n",
      "2.6795178881524075e-229\n",
      "5.359035776304815e-229\n",
      "1.071807155260963e-228\n",
      "2.143614310521926e-228\n",
      "4.287228621043852e-228\n",
      "8.574457242087704e-228\n",
      "1.7148914484175408e-227\n",
      "3.4297828968350815e-227\n",
      "6.859565793670163e-227\n",
      "1.3719131587340326e-226\n",
      "2.7438263174680652e-226\n",
      "5.4876526349361305e-226\n",
      "1.0975305269872261e-225\n",
      "2.1950610539744522e-225\n",
      "4.3901221079489044e-225\n",
      "8.780244215897809e-225\n",
      "1.7560488431795618e-224\n",
      "3.5120976863591235e-224\n",
      "7.024195372718247e-224\n",
      "1.4048390745436494e-223\n",
      "2.8096781490872988e-223\n",
      "5.6193562981745976e-223\n",
      "1.1238712596349195e-222\n",
      "2.247742519269839e-222\n",
      "4.495485038539678e-222\n",
      "8.990970077079356e-222\n",
      "1.7981940154158712e-221\n",
      "3.5963880308317425e-221\n",
      "7.192776061663485e-221\n",
      "1.438555212332697e-220\n",
      "2.877110424665394e-220\n",
      "5.754220849330788e-220\n",
      "1.1508441698661576e-219\n",
      "2.3016883397323152e-219\n",
      "4.6033766794646304e-219\n",
      "9.206753358929261e-219\n",
      "1.8413506717858521e-218\n",
      "3.6827013435717043e-218\n",
      "7.365402687143409e-218\n",
      "1.4730805374286817e-217\n",
      "2.9461610748573634e-217\n",
      "5.892322149714727e-217\n",
      "1.1784644299429454e-216\n",
      "2.3569288598858907e-216\n",
      "4.7138577197717815e-216\n",
      "9.427715439543563e-216\n",
      "1.8855430879087126e-215\n",
      "3.771086175817425e-215\n",
      "7.54217235163485e-215\n",
      "1.50843447032697e-214\n",
      "3.01686894065394e-214\n",
      "6.03373788130788e-214\n",
      "1.206747576261576e-213\n",
      "2.413495152523152e-213\n",
      "4.826990305046304e-213\n",
      "9.653980610092608e-213\n",
      "1.9307961220185217e-212\n",
      "3.8615922440370434e-212\n",
      "7.723184488074087e-212\n",
      "1.5446368976148174e-211\n",
      "3.0892737952296347e-211\n",
      "6.1785475904592694e-211\n",
      "1.2357095180918539e-210\n",
      "2.4714190361837078e-210\n",
      "4.9428380723674155e-210\n",
      "9.885676144734831e-210\n",
      "1.9771352289469662e-209\n",
      "3.9542704578939324e-209\n",
      "7.908540915787865e-209\n",
      "1.581708183157573e-208\n",
      "3.163416366315146e-208\n",
      "6.326832732630292e-208\n",
      "1.2653665465260584e-207\n",
      "2.5307330930521168e-207\n",
      "5.0614661861042335e-207\n",
      "1.0122932372208467e-206\n",
      "2.0245864744416934e-206\n",
      "4.049172948883387e-206\n",
      "8.098345897766774e-206\n",
      "1.6196691795533547e-205\n",
      "3.2393383591067094e-205\n",
      "6.478676718213419e-205\n",
      "1.2957353436426838e-204\n",
      "2.5914706872853676e-204\n",
      "5.182941374570735e-204\n",
      "1.036588274914147e-203\n",
      "2.073176549828294e-203\n",
      "4.146353099656588e-203\n",
      "8.292706199313176e-203\n",
      "1.6585412398626352e-202\n",
      "3.3170824797252705e-202\n",
      "6.634164959450541e-202\n",
      "1.3268329918901082e-201\n",
      "2.6536659837802164e-201\n",
      "5.307331967560433e-201\n",
      "1.0614663935120866e-200\n",
      "2.122932787024173e-200\n",
      "4.245865574048346e-200\n",
      "8.491731148096692e-200\n",
      "1.6983462296193385e-199\n",
      "3.396692459238677e-199\n",
      "6.793384918477354e-199\n",
      "1.3586769836954708e-198\n",
      "2.7173539673909416e-198\n",
      "5.434707934781883e-198\n",
      "1.0869415869563766e-197\n",
      "2.1738831739127533e-197\n",
      "4.3477663478255065e-197\n",
      "8.695532695651013e-197\n",
      "1.7391065391302026e-196\n",
      "3.478213078260405e-196\n",
      "6.95642615652081e-196\n",
      "1.391285231304162e-195\n",
      "2.782570462608324e-195\n",
      "5.565140925216648e-195\n",
      "1.1130281850433297e-194\n",
      "2.2260563700866593e-194\n",
      "4.4521127401733187e-194\n",
      "8.904225480346637e-194\n",
      "1.7808450960693275e-193\n",
      "3.561690192138655e-193\n",
      "7.12338038427731e-193\n",
      "1.424676076855462e-192\n",
      "2.849352153710924e-192\n",
      "5.698704307421848e-192\n",
      "1.1397408614843696e-191\n",
      "2.2794817229687392e-191\n",
      "4.5589634459374783e-191\n",
      "9.117926891874957e-191\n",
      "1.8235853783749913e-190\n",
      "3.6471707567499827e-190\n",
      "7.294341513499965e-190\n",
      "1.458868302699993e-189\n",
      "2.917736605399986e-189\n",
      "5.835473210799972e-189\n",
      "1.1670946421599945e-188\n",
      "2.334189284319989e-188\n",
      "4.668378568639978e-188\n",
      "9.336757137279956e-188\n",
      "1.867351427455991e-187\n",
      "3.734702854911982e-187\n",
      "7.469405709823964e-187\n",
      "1.4938811419647929e-186\n",
      "2.9877622839295858e-186\n",
      "5.9755245678591716e-186\n",
      "1.1951049135718343e-185\n",
      "2.3902098271436686e-185\n",
      "4.780419654287337e-185\n",
      "9.560839308574675e-185\n",
      "1.912167861714935e-184\n",
      "3.82433572342987e-184\n",
      "7.64867144685974e-184\n",
      "1.529734289371948e-183\n",
      "3.059468578743896e-183\n",
      "6.118937157487792e-183\n",
      "1.2237874314975583e-182\n",
      "2.4475748629951167e-182\n",
      "4.8951497259902334e-182\n",
      "9.790299451980467e-182\n",
      "1.9580598903960933e-181\n",
      "3.9161197807921867e-181\n",
      "7.832239561584373e-181\n",
      "1.5664479123168747e-180\n",
      "3.1328958246337494e-180\n",
      "6.265791649267499e-180\n",
      "1.2531583298534997e-179\n",
      "2.5063166597069995e-179\n",
      "5.012633319413999e-179\n",
      "1.0025266638827998e-178\n",
      "2.0050533277655996e-178\n",
      "4.010106655531199e-178\n",
      "8.020213311062398e-178\n",
      "1.6040426622124797e-177\n",
      "3.2080853244249593e-177\n",
      "6.416170648849919e-177\n",
      "1.2832341297699837e-176\n",
      "2.5664682595399675e-176\n",
      "5.132936519079935e-176\n",
      "1.026587303815987e-175\n",
      "2.053174607631974e-175\n",
      "4.106349215263948e-175\n",
      "8.212698430527896e-175\n",
      "1.6425396861055792e-174\n",
      "3.2850793722111584e-174\n",
      "6.570158744422317e-174\n",
      "1.3140317488844633e-173\n",
      "2.6280634977689267e-173\n",
      "5.2561269955378534e-173\n",
      "1.0512253991075707e-172\n",
      "2.1024507982151414e-172\n",
      "4.2049015964302827e-172\n",
      "8.409803192860565e-172\n",
      "1.681960638572113e-171\n",
      "3.363921277144226e-171\n",
      "6.727842554288452e-171\n",
      "1.3455685108576905e-170\n",
      "2.691137021715381e-170\n",
      "5.382274043430762e-170\n",
      "1.0764548086861524e-169\n",
      "2.1529096173723047e-169\n",
      "4.3058192347446095e-169\n",
      "8.611638469489219e-169\n",
      "1.7223276938978438e-168\n",
      "3.4446553877956876e-168\n",
      "6.889310775591375e-168\n",
      "1.377862155118275e-167\n",
      "2.75572431023655e-167\n",
      "5.5114486204731e-167\n",
      "1.10228972409462e-166\n",
      "2.20457944818924e-166\n",
      "4.40915889637848e-166\n",
      "8.81831779275696e-166\n",
      "1.763663558551392e-165\n",
      "3.527327117102784e-165\n",
      "7.054654234205568e-165\n",
      "1.4109308468411136e-164\n",
      "2.8218616936822273e-164\n",
      "5.6437233873644545e-164\n",
      "1.1287446774728909e-163\n",
      "2.2574893549457818e-163\n",
      "4.5149787098915636e-163\n",
      "9.029957419783127e-163\n",
      "1.8059914839566255e-162\n",
      "3.611982967913251e-162\n",
      "7.223965935826502e-162\n",
      "1.4447931871653004e-161\n",
      "2.8895863743306007e-161\n",
      "5.7791727486612015e-161\n",
      "1.1558345497322403e-160\n",
      "2.3116690994644806e-160\n",
      "4.623338198928961e-160\n",
      "9.246676397857922e-160\n",
      "1.8493352795715845e-159\n",
      "3.698670559143169e-159\n",
      "7.397341118286338e-159\n",
      "1.4794682236572676e-158\n",
      "2.958936447314535e-158\n",
      "5.91787289462907e-158\n",
      "1.183574578925814e-157\n",
      "2.367149157851628e-157\n",
      "4.734298315703256e-157\n",
      "9.468596631406512e-157\n",
      "1.8937193262813025e-156\n",
      "3.787438652562605e-156\n",
      "7.57487730512521e-156\n",
      "1.514975461025042e-155\n",
      "3.029950922050084e-155\n",
      "6.059901844100168e-155\n",
      "1.2119803688200336e-154\n",
      "2.4239607376400672e-154\n",
      "4.8479214752801344e-154\n",
      "9.695842950560269e-154\n",
      "1.9391685901120538e-153\n",
      "3.8783371802241075e-153\n",
      "7.756674360448215e-153\n",
      "1.551334872089643e-152\n",
      "3.102669744179286e-152\n",
      "6.205339488358572e-152\n",
      "1.2410678976717144e-151\n",
      "2.4821357953434288e-151\n",
      "4.9642715906868576e-151\n",
      "9.928543181373715e-151\n",
      "1.985708636274743e-150\n",
      "3.971417272549486e-150\n",
      "7.942834545098972e-150\n",
      "1.5885669090197944e-149\n",
      "3.177133818039589e-149\n",
      "6.354267636079178e-149\n",
      "1.2708535272158355e-148\n",
      "2.541707054431671e-148\n",
      "5.083414108863342e-148\n",
      "1.0166828217726684e-147\n",
      "2.033365643545337e-147\n",
      "4.066731287090674e-147\n",
      "8.133462574181348e-147\n",
      "1.6266925148362695e-146\n",
      "3.253385029672539e-146\n",
      "6.506770059345078e-146\n",
      "1.3013540118690156e-145\n",
      "2.6027080237380312e-145\n",
      "5.2054160474760624e-145\n",
      "1.0410832094952125e-144\n",
      "2.082166418990425e-144\n",
      "4.16433283798085e-144\n",
      "8.3286656759617e-144\n",
      "1.66573313519234e-143\n",
      "3.33146627038468e-143\n",
      "6.66293254076936e-143\n",
      "1.332586508153872e-142\n",
      "2.665173016307744e-142\n",
      "5.330346032615488e-142\n",
      "1.0660692065230976e-141\n",
      "2.1321384130461952e-141\n",
      "4.2642768260923903e-141\n",
      "8.528553652184781e-141\n",
      "1.7057107304369561e-140\n",
      "3.4114214608739123e-140\n",
      "6.8228429217478245e-140\n",
      "1.3645685843495649e-139\n",
      "2.7291371686991298e-139\n",
      "5.4582743373982596e-139\n",
      "1.0916548674796519e-138\n",
      "2.1833097349593038e-138\n",
      "4.3666194699186077e-138\n",
      "8.733238939837215e-138\n",
      "1.746647787967443e-137\n",
      "3.493295575934886e-137\n",
      "6.986591151869772e-137\n",
      "1.3973182303739545e-136\n",
      "2.794636460747909e-136\n",
      "5.589272921495818e-136\n",
      "1.1178545842991636e-135\n",
      "2.235709168598327e-135\n",
      "4.471418337196654e-135\n",
      "8.942836674393309e-135\n",
      "1.7885673348786617e-134\n",
      "3.5771346697573234e-134\n",
      "7.154269339514647e-134\n",
      "1.4308538679029294e-133\n",
      "2.8617077358058587e-133\n",
      "5.7234154716117175e-133\n",
      "1.1446830943223435e-132\n",
      "2.289366188644687e-132\n",
      "4.578732377289374e-132\n",
      "9.157464754578748e-132\n",
      "1.8314929509157496e-131\n",
      "3.662985901831499e-131\n",
      "7.325971803662998e-131\n",
      "1.4651943607325997e-130\n",
      "2.9303887214651993e-130\n",
      "5.860777442930399e-130\n",
      "1.1721554885860797e-129\n",
      "2.3443109771721595e-129\n",
      "4.688621954344319e-129\n",
      "9.377243908688638e-129\n",
      "1.8754487817377276e-128\n",
      "3.750897563475455e-128\n",
      "7.50179512695091e-128\n",
      "1.500359025390182e-127\n",
      "3.000718050780364e-127\n",
      "6.001436101560728e-127\n",
      "1.2002872203121457e-126\n",
      "2.4005744406242913e-126\n",
      "4.8011488812485826e-126\n",
      "9.602297762497165e-126\n",
      "1.920459552499433e-125\n",
      "3.840919104998866e-125\n",
      "7.681838209997732e-125\n",
      "1.5363676419995464e-124\n",
      "3.072735283999093e-124\n",
      "6.145470567998186e-124\n",
      "1.2290941135996371e-123\n",
      "2.4581882271992743e-123\n",
      "4.9163764543985486e-123\n",
      "9.832752908797097e-123\n",
      "1.9665505817594194e-122\n",
      "3.933101163518839e-122\n",
      "7.866202327037678e-122\n",
      "1.5732404654075355e-121\n",
      "3.146480930815071e-121\n",
      "6.292961861630142e-121\n",
      "1.2585923723260284e-120\n",
      "2.517184744652057e-120\n",
      "5.034369489304114e-120\n",
      "1.0068738978608228e-119\n",
      "2.0137477957216455e-119\n",
      "4.027495591443291e-119\n",
      "8.054991182886582e-119\n",
      "1.6109982365773164e-118\n",
      "3.221996473154633e-118\n",
      "6.443992946309266e-118\n",
      "1.2887985892618531e-117\n",
      "2.5775971785237062e-117\n",
      "5.1551943570474125e-117\n",
      "1.0310388714094825e-116\n",
      "2.062077742818965e-116\n",
      "4.12415548563793e-116\n",
      "8.24831097127586e-116\n",
      "1.649662194255172e-115\n",
      "3.299324388510344e-115\n",
      "6.598648777020688e-115\n",
      "1.3197297554041376e-114\n",
      "2.6394595108082752e-114\n",
      "5.2789190216165504e-114\n",
      "1.0557838043233101e-113\n",
      "2.1115676086466202e-113\n",
      "4.2231352172932403e-113\n",
      "8.446270434586481e-113\n",
      "1.6892540869172961e-112\n",
      "3.3785081738345922e-112\n",
      "6.7570163476691845e-112\n",
      "1.3514032695338369e-111\n",
      "2.7028065390676738e-111\n",
      "5.4056130781353476e-111\n",
      "1.0811226156270695e-110\n",
      "2.162245231254139e-110\n",
      "4.324490462508278e-110\n",
      "8.648980925016556e-110\n",
      "1.7297961850033112e-109\n",
      "3.4595923700066225e-109\n",
      "6.919184740013245e-109\n",
      "1.383836948002649e-108\n",
      "2.767673896005298e-108\n",
      "5.535347792010596e-108\n",
      "1.1070695584021192e-107\n",
      "2.2141391168042384e-107\n",
      "4.428278233608477e-107\n",
      "8.856556467216953e-107\n",
      "1.7713112934433907e-106\n",
      "3.5426225868867814e-106\n",
      "7.085245173773563e-106\n",
      "1.4170490347547126e-105\n",
      "2.834098069509425e-105\n",
      "5.66819613901885e-105\n",
      "1.13363922780377e-104\n",
      "2.26727845560754e-104\n",
      "4.53455691121508e-104\n",
      "9.06911382243016e-104\n",
      "1.813822764486032e-103\n",
      "3.627645528972064e-103\n",
      "7.255291057944128e-103\n",
      "1.4510582115888257e-102\n",
      "2.9021164231776513e-102\n",
      "5.804232846355303e-102\n",
      "1.1608465692710605e-101\n",
      "2.321693138542121e-101\n",
      "4.643386277084242e-101\n",
      "9.286772554168484e-101\n",
      "1.8573545108336968e-100\n",
      "3.7147090216673937e-100\n",
      "7.429418043334787e-100\n",
      "1.4858836086669575e-99\n",
      "2.971767217333915e-99\n",
      "5.94353443466783e-99\n",
      "1.188706886933566e-98\n",
      "2.377413773867132e-98\n",
      "4.754827547734264e-98\n",
      "9.509655095468528e-98\n",
      "1.9019310190937056e-97\n",
      "3.803862038187411e-97\n",
      "7.607724076374822e-97\n",
      "1.5215448152749645e-96\n",
      "3.043089630549929e-96\n",
      "6.086179261099858e-96\n",
      "1.2172358522199716e-95\n",
      "2.434471704439943e-95\n",
      "4.868943408879886e-95\n",
      "9.737886817759773e-95\n",
      "1.9475773635519545e-94\n",
      "3.895154727103909e-94\n",
      "7.790309454207818e-94\n",
      "1.5580618908415636e-93\n",
      "3.116123781683127e-93\n",
      "6.232247563366254e-93\n",
      "1.2464495126732509e-92\n",
      "2.4928990253465018e-92\n",
      "4.9857980506930035e-92\n",
      "9.971596101386007e-92\n",
      "1.9943192202772014e-91\n",
      "3.988638440554403e-91\n",
      "7.977276881108806e-91\n",
      "1.5954553762217611e-90\n",
      "3.1909107524435223e-90\n",
      "6.3818215048870445e-90\n",
      "1.2763643009774089e-89\n",
      "2.5527286019548178e-89\n",
      "5.1054572039096356e-89\n",
      "1.0210914407819271e-88\n",
      "2.0421828815638542e-88\n",
      "4.0843657631277085e-88\n",
      "8.168731526255417e-88\n",
      "1.6337463052510834e-87\n",
      "3.267492610502167e-87\n",
      "6.534985221004334e-87\n",
      "1.3069970442008667e-86\n",
      "2.6139940884017334e-86\n",
      "5.227988176803467e-86\n",
      "1.0455976353606934e-85\n",
      "2.0911952707213867e-85\n",
      "4.1823905414427735e-85\n",
      "8.364781082885547e-85\n",
      "1.6729562165771094e-84\n",
      "3.345912433154219e-84\n",
      "6.691824866308438e-84\n",
      "1.3383649732616875e-83\n",
      "2.676729946523375e-83\n",
      "5.35345989304675e-83\n",
      "1.07069197860935e-82\n",
      "2.1413839572187e-82\n",
      "4.2827679144374e-82\n",
      "8.5655358288748e-82\n",
      "1.71310716577496e-81\n",
      "3.42621433154992e-81\n",
      "6.85242866309984e-81\n",
      "1.370485732619968e-80\n",
      "2.740971465239936e-80\n",
      "5.481942930479872e-80\n",
      "1.0963885860959744e-79\n",
      "2.1927771721919488e-79\n",
      "4.3855543443838977e-79\n",
      "8.771108688767795e-79\n",
      "1.754221737753559e-78\n",
      "3.508443475507118e-78\n",
      "7.016886951014236e-78\n",
      "1.4033773902028473e-77\n",
      "2.8067547804056945e-77\n",
      "5.613509560811389e-77\n",
      "1.1227019121622778e-76\n",
      "2.2454038243245556e-76\n",
      "4.490807648649111e-76\n",
      "8.981615297298222e-76\n",
      "1.7963230594596445e-75\n",
      "3.592646118919289e-75\n",
      "7.185292237838578e-75\n",
      "1.4370584475677156e-74\n",
      "2.874116895135431e-74\n",
      "5.748233790270862e-74\n",
      "1.1496467580541725e-73\n",
      "2.299293516108345e-73\n",
      "4.59858703221669e-73\n",
      "9.19717406443338e-73\n",
      "1.839434812886676e-72\n",
      "3.678869625773352e-72\n",
      "7.357739251546704e-72\n",
      "1.4715478503093408e-71\n",
      "2.9430957006186815e-71\n",
      "5.886191401237363e-71\n",
      "1.1772382802474726e-70\n",
      "2.3544765604949452e-70\n",
      "4.7089531209898904e-70\n",
      "9.417906241979781e-70\n",
      "1.8835812483959562e-69\n",
      "3.7671624967919123e-69\n",
      "7.534324993583825e-69\n",
      "1.506864998716765e-68\n",
      "3.01372999743353e-68\n",
      "6.02745999486706e-68\n",
      "1.205491998973412e-67\n",
      "2.410983997946824e-67\n",
      "4.821967995893648e-67\n",
      "9.643935991787296e-67\n",
      "1.928787198357459e-66\n",
      "3.857574396714918e-66\n",
      "7.715148793429836e-66\n",
      "1.5430297586859673e-65\n",
      "3.0860595173719346e-65\n",
      "6.172119034743869e-65\n",
      "1.2344238069487738e-64\n",
      "2.4688476138975477e-64\n",
      "4.9376952277950953e-64\n",
      "9.875390455590191e-64\n",
      "1.9750780911180381e-63\n",
      "3.9501561822360763e-63\n",
      "7.900312364472153e-63\n",
      "1.5800624728944305e-62\n",
      "3.160124945788861e-62\n",
      "6.320249891577722e-62\n",
      "1.2640499783155444e-61\n",
      "2.5280999566310888e-61\n",
      "5.0561999132621776e-61\n",
      "1.0112399826524355e-60\n",
      "2.022479965304871e-60\n",
      "4.044959930609742e-60\n",
      "8.089919861219484e-60\n",
      "1.6179839722438968e-59\n",
      "3.2359679444877937e-59\n",
      "6.471935888975587e-59\n",
      "1.2943871777951175e-58\n",
      "2.588774355590235e-58\n",
      "5.17754871118047e-58\n",
      "1.035509742236094e-57\n",
      "2.071019484472188e-57\n",
      "4.142038968944376e-57\n",
      "8.284077937888752e-57\n",
      "1.6568155875777504e-56\n",
      "3.3136311751555007e-56\n",
      "6.6272623503110015e-56\n",
      "1.3254524700622003e-55\n",
      "2.6509049401244006e-55\n",
      "5.301809880248801e-55\n",
      "1.0603619760497602e-54\n",
      "2.1207239520995205e-54\n",
      "4.241447904199041e-54\n",
      "8.482895808398082e-54\n",
      "1.6965791616796164e-53\n",
      "3.3931583233592328e-53\n",
      "6.7863166467184655e-53\n",
      "1.3572633293436931e-52\n",
      "2.7145266586873862e-52\n",
      "5.4290533173747724e-52\n",
      "1.0858106634749545e-51\n",
      "2.171621326949909e-51\n",
      "4.343242653899818e-51\n",
      "8.686485307799636e-51\n",
      "1.7372970615599272e-50\n",
      "3.4745941231198543e-50\n",
      "6.949188246239709e-50\n",
      "1.3898376492479417e-49\n",
      "2.7796752984958835e-49\n",
      "5.559350596991767e-49\n",
      "1.1118701193983534e-48\n",
      "2.2237402387967068e-48\n",
      "4.4474804775934136e-48\n",
      "8.894960955186827e-48\n",
      "1.7789921910373654e-47\n",
      "3.557984382074731e-47\n",
      "7.115968764149462e-47\n",
      "1.4231937528298923e-46\n",
      "2.8463875056597847e-46\n",
      "5.692775011319569e-46\n",
      "1.1385550022639139e-45\n",
      "2.2771100045278277e-45\n",
      "4.5542200090556555e-45\n",
      "9.108440018111311e-45\n",
      "1.8216880036222622e-44\n",
      "3.6433760072445244e-44\n",
      "7.286752014489049e-44\n",
      "1.4573504028978098e-43\n",
      "2.9147008057956195e-43\n",
      "5.829401611591239e-43\n",
      "1.1658803223182478e-42\n",
      "2.3317606446364956e-42\n",
      "4.663521289272991e-42\n",
      "9.327042578545982e-42\n",
      "1.8654085157091965e-41\n",
      "3.730817031418393e-41\n",
      "7.461634062836786e-41\n",
      "1.4923268125673572e-40\n",
      "2.9846536251347144e-40\n",
      "5.969307250269429e-40\n",
      "1.1938614500538858e-39\n",
      "2.3877229001077715e-39\n",
      "4.775445800215543e-39\n",
      "9.550891600431086e-39\n",
      "1.9101783200862172e-38\n",
      "3.8203566401724344e-38\n",
      "7.640713280344869e-38\n",
      "1.5281426560689738e-37\n",
      "3.0562853121379475e-37\n",
      "6.112570624275895e-37\n",
      "1.222514124855179e-36\n",
      "2.445028249710358e-36\n",
      "4.890056499420716e-36\n",
      "9.780112998841432e-36\n",
      "1.9560225997682864e-35\n",
      "3.912045199536573e-35\n",
      "7.824090399073146e-35\n",
      "1.5648180798146291e-34\n",
      "3.1296361596292583e-34\n",
      "6.2592723192585165e-34\n",
      "1.2518544638517033e-33\n",
      "2.5037089277034066e-33\n",
      "5.007417855406813e-33\n",
      "1.0014835710813626e-32\n",
      "2.0029671421627253e-32\n",
      "4.0059342843254506e-32\n",
      "8.011868568650901e-32\n",
      "1.6023737137301802e-31\n",
      "3.2047474274603605e-31\n",
      "6.409494854920721e-31\n",
      "1.2818989709841442e-30\n",
      "2.5637979419682884e-30\n",
      "5.127595883936577e-30\n",
      "1.0255191767873153e-29\n",
      "2.0510383535746307e-29\n",
      "4.1020767071492614e-29\n",
      "8.204153414298523e-29\n",
      "1.6408306828597046e-28\n",
      "3.281661365719409e-28\n",
      "6.563322731438818e-28\n",
      "1.3126645462877636e-27\n",
      "2.6253290925755273e-27\n",
      "5.2506581851510546e-27\n",
      "1.0501316370302109e-26\n",
      "2.1002632740604218e-26\n",
      "4.2005265481208437e-26\n",
      "8.401053096241687e-26\n",
      "1.6802106192483375e-25\n",
      "3.360421238496675e-25\n",
      "6.72084247699335e-25\n",
      "1.34416849539867e-24\n",
      "2.68833699079734e-24\n",
      "5.37667398159468e-24\n",
      "1.075334796318936e-23\n",
      "2.150669592637872e-23\n",
      "4.301339185275744e-23\n",
      "8.602678370551488e-23\n",
      "1.7205356741102976e-22\n",
      "3.441071348220595e-22\n",
      "6.88214269644119e-22\n",
      "1.376428539288238e-21\n",
      "2.752857078576476e-21\n",
      "5.505714157152952e-21\n",
      "1.1011428314305904e-20\n",
      "2.202285662861181e-20\n",
      "4.404571325722362e-20\n",
      "8.809142651444724e-20\n",
      "1.7618285302889447e-19\n",
      "3.5236570605778894e-19\n",
      "7.047314121155779e-19\n",
      "1.4094628242311558e-18\n",
      "2.8189256484623115e-18\n",
      "5.637851296924623e-18\n",
      "1.1275702593849246e-17\n",
      "2.2551405187698492e-17\n",
      "4.5102810375396984e-17\n",
      "9.020562075079397e-17\n",
      "1.8041124150158794e-16\n",
      "3.608224830031759e-16\n",
      "7.216449660063518e-16\n",
      "1.4432899320127035e-15\n",
      "2.886579864025407e-15\n",
      "5.773159728050814e-15\n",
      "1.1546319456101628e-14\n",
      "2.3092638912203256e-14\n",
      "4.618527782440651e-14\n",
      "9.237055564881302e-14\n",
      "1.8474111129762605e-13\n",
      "3.694822225952521e-13\n",
      "7.389644451905042e-13\n",
      "1.4779288903810084e-12\n",
      "2.9558577807620168e-12\n",
      "5.9117155615240335e-12\n",
      "1.1823431123048067e-11\n",
      "2.3646862246096134e-11\n",
      "4.729372449219227e-11\n",
      "9.458744898438454e-11\n",
      "1.8917489796876907e-10\n",
      "3.7834979593753815e-10\n",
      "7.566995918750763e-10\n",
      "1.5133991837501526e-09\n",
      "3.026798367500305e-09\n",
      "6.05359673500061e-09\n",
      "1.210719347000122e-08\n",
      "2.421438694000244e-08\n",
      "4.842877388000488e-08\n",
      "9.685754776000977e-08\n",
      "1.9371509552001953e-07\n",
      "3.8743019104003906e-07\n",
      "7.748603820800781e-07\n",
      "1.5497207641601562e-06\n",
      "3.0994415283203125e-06\n",
      "6.198883056640625e-06\n",
      "1.239776611328125e-05\n",
      "2.47955322265625e-05\n",
      "4.9591064453125e-05\n",
      "9.918212890625e-05\n",
      "0.0001983642578125\n",
      "0.000396728515625\n",
      "0.00079345703125\n",
      "0.0015869140625\n",
      "0.003173828125\n",
      "0.00634765625\n",
      "0.0126953125\n",
      "0.025390625\n",
      "0.05078125\n",
      "0.1015625\n",
      "0.203125\n",
      "0.40625\n",
      "0.8125\n",
      "1.625\n",
      "1.25\n",
      "0.5\n",
      "1\n"
     ]
    }
   ],
   "source": [
    "def fun(n):\n",
    "    if n ==0:\n",
    "        return\n",
    "    fun(n/2)\n",
    "    print(n%2)\n",
    "fun(13)"
   ]
  },
  {
   "cell_type": "code",
   "execution_count": 207,
   "id": "9fbee248-70c3-421a-a436-7eeafb8f24b3",
   "metadata": {},
   "outputs": [
    {
     "name": "stdout",
     "output_type": "stream",
     "text": [
      "21\n",
      "20\n",
      "19\n",
      "18\n",
      "17\n",
      "16\n",
      "15\n",
      "14\n",
      "13\n",
      "12\n",
      "11\n",
      "10\n",
      "9\n",
      "8\n",
      "7\n",
      "6\n",
      "5\n",
      "4\n",
      "3\n",
      "2\n",
      "1\n"
     ]
    }
   ],
   "source": [
    "\"\"\"\n",
    "Write a function to print n to 1 recursively\n",
    "\"\"\"\n",
    "\n",
    "\n",
    "def fun1(n):\n",
    "    if n== 0:\n",
    "        return\n",
    "    print(n)\n",
    "    fun1(n-1)\n",
    "fun1(21)\n",
    "# T.C = 0(n) Space complexity 0(n)\n",
    "# Recurrence relation\n",
    "# T(n) = T(n-1) +0(1)\n"
   ]
  },
  {
   "cell_type": "code",
   "execution_count": 1,
   "id": "ae9765bb-0d48-4c8c-aece-1f662bb79c44",
   "metadata": {},
   "outputs": [
    {
     "name": "stdout",
     "output_type": "stream",
     "text": [
      "Moved disk 1  from  a to  c\n",
      "Moved disk 2  from  a to  b\n",
      "Moved disk 1  from  c to  b\n",
      "Moved disk 3  from  a to  c\n",
      "Moved disk 1  from  b to  a\n",
      "Moved disk 2  from  b to  c\n",
      "Moved disk 1  from  a to  c\n"
     ]
    }
   ],
   "source": [
    "def toh(n,a,b,c):\n",
    "    if n ==0:\n",
    "        return\n",
    "    toh(n-1,a,c,b)\n",
    "    print(\"Moved disk\",n,\" from \", a, \"to \",c)\n",
    "    toh(n-1,b,a,c)\n",
    "toh(3,\"a\",\"b\",\"c\")"
   ]
  },
  {
   "cell_type": "code",
   "execution_count": 213,
   "id": "8c7a0f95-f178-40dc-9c78-6a5acd5aaffc",
   "metadata": {},
   "outputs": [
    {
     "name": "stdout",
     "output_type": "stream",
     "text": [
      "1\n",
      "2\n",
      "3\n",
      "4\n",
      "5\n",
      "6\n",
      "7\n",
      "8\n",
      "9\n",
      "10\n",
      "11\n",
      "12\n",
      "13\n",
      "14\n",
      "15\n",
      "16\n",
      "17\n",
      "18\n",
      "19\n",
      "20\n",
      "21\n"
     ]
    }
   ],
   "source": [
    "\"\"\"\n",
    "Write a function to print  1 to n recursively\n",
    "\"\"\"\n",
    "\n",
    "def fun2(n):\n",
    "    if n== 0:\n",
    "        return\n",
    "    fun2(n-1)\n",
    "    print(n)\n",
    "fun2(21)"
   ]
  },
  {
   "cell_type": "raw",
   "id": "0d862089-a464-4258-9154-6792943e416a",
   "metadata": {},
   "source": [
    "Tail Recursion : A function is said to be tail recursive if the parent function has nothing more to when the child function is called. \n",
    "That means last statement is a recursive call.\n",
    "In our case printing fun1 is tail recurive but fun2 is not tail recurisve.\n",
    "Tail recursive takes less time because it does not need to save the state of the previous recursive call.\n",
    "inside the function it happens like:\n",
    "n= n-1\n",
    "goto state;\n",
    "start:\n",
    "\n",
    "\n",
    "This "
   ]
  },
  {
   "cell_type": "code",
   "execution_count": 217,
   "id": "12f6ee5f-5286-4e6c-8f2f-5d7b098c85b6",
   "metadata": {},
   "outputs": [
    {
     "name": "stdout",
     "output_type": "stream",
     "text": [
      "1\n",
      "2\n",
      "3\n",
      "4\n",
      "5\n",
      "6\n",
      "7\n",
      "8\n",
      "9\n",
      "10\n",
      "11\n",
      "12\n",
      "13\n",
      "14\n",
      "15\n",
      "16\n",
      "17\n",
      "18\n",
      "19\n",
      "20\n",
      "21\n"
     ]
    }
   ],
   "source": [
    "# mAKE the non-tail recurisver function fun2 intop a tail recursive call\n",
    "def fun3(n,k=1):\n",
    "    if n==0:\n",
    "        return\n",
    "    print(k)\n",
    "    fun3(n-1,k+1)\n",
    "fun3(21)"
   ]
  },
  {
   "cell_type": "raw",
   "id": "3e506b21-f81a-4d7d-b495-f56933174bae",
   "metadata": {},
   "source": [
    "We cannot convert every non-tail rcursive function to tail recursive and cvice versa like ; quick sort and merge sort.\n"
   ]
  },
  {
   "cell_type": "code",
   "execution_count": 231,
   "id": "1cd55de2-f65a-4483-9c1e-8f5d3e7f971f",
   "metadata": {},
   "outputs": [
    {
     "data": {
      "text/plain": [
       "6"
      ]
     },
     "execution_count": 231,
     "metadata": {},
     "output_type": "execute_result"
    }
   ],
   "source": [
    "def fact(n,res=1):\n",
    "    if n == 0 or n==1:\n",
    "        return res;\n",
    "    return fact(n-1,res*n)\n",
    "fact(3)\n",
    "#tail recursive function for factorial"
   ]
  },
  {
   "cell_type": "code",
   "execution_count": null,
   "id": "ac9e0f0e-f76a-4e5c-b6ed-d2fa60dcbea7",
   "metadata": {},
   "outputs": [],
   "source": [
    "def fact2(n):\n",
    "    if n ==0 :\n",
    "        return 1\n",
    "    return n* fact2(n-1)"
   ]
  },
  {
   "cell_type": "code",
   "execution_count": 237,
   "id": "323af9e1-6211-4a17-b7ed-96078ce7144c",
   "metadata": {},
   "outputs": [
    {
     "data": {
      "text/plain": [
       "8"
      ]
     },
     "execution_count": 237,
     "metadata": {},
     "output_type": "execute_result"
    }
   ],
   "source": [
    "def fib(n):\n",
    "    if n==0:\n",
    "       return 0\n",
    "    if n ==1:\n",
    "        return 1\n",
    "    return fib(n-2)+fib(n-1)\n",
    "fib(6)"
   ]
  },
  {
   "cell_type": "code",
   "execution_count": 245,
   "id": "7ba11ba0-5e82-4c3d-acd5-08b9fad30928",
   "metadata": {},
   "outputs": [
    {
     "data": {
      "text/plain": [
       "15"
      ]
     },
     "execution_count": 245,
     "metadata": {},
     "output_type": "execute_result"
    }
   ],
   "source": [
    "def sumofn(n):\n",
    "    if n==0:\n",
    "        return 0\n",
    "    return n +sumofn(n-1)\n",
    "sumofn(5)\n",
    "# TC = 0(n)\n",
    "# T(n) = T(n-1) + 0(1)\n",
    "#auxiliary space : 0(n)"
   ]
  },
  {
   "cell_type": "code",
   "execution_count": 255,
   "id": "53cd7253-486e-468f-b671-e4a94679757e",
   "metadata": {},
   "outputs": [
    {
     "data": {
      "text/plain": [
       "2"
      ]
     },
     "execution_count": 255,
     "metadata": {},
     "output_type": "execute_result"
    }
   ],
   "source": [
    "# Rope cutting problem\n",
    "def rcut(n,a,b,c):\n",
    "    if n==0:\n",
    "        return 0\n",
    "    if n<0:\n",
    "        return -1\n",
    "    res = max(rcut(n-a,a,b,c),rcut(n-b,a,b,c),rcut(n-c,a,b,c))\n",
    "    if res == -1:\n",
    "        return -1\n",
    "    return res+1 # adding 1 because once we make the call for max , we have made a cut as it has passed the base conditions\n",
    "rcut(23,11,9,12)\n",
    "# Time complexity = T(3^n)"
   ]
  },
  {
   "cell_type": "code",
   "execution_count": 21,
   "id": "a125d516-76b7-4812-9db9-ec3ddb9a1f9a",
   "metadata": {},
   "outputs": [
    {
     "name": "stdout",
     "output_type": "stream",
     "text": [
      "\n",
      "c\n",
      "b\n",
      "bc\n",
      "a\n",
      "ac\n",
      "ab\n",
      "abc\n"
     ]
    }
   ],
   "source": [
    "# Gnerate subset for a string \n",
    "def subset(str, curr = \"\",i=0):\n",
    "    if i == len(str):\n",
    "        print(curr)\n",
    "        return\n",
    "    subset(str,curr,i+1)\n",
    "    subset(str,curr+str [i],i+1)\n",
    "subset(\"abc\")"
   ]
  },
  {
   "cell_type": "code",
   "execution_count": 11,
   "id": "0176f7f2-ca33-4cf9-99b7-711698ec63ad",
   "metadata": {},
   "outputs": [
    {
     "name": "stdout",
     "output_type": "stream",
     "text": [
      "\n",
      "c\n",
      "b\n",
      "bc\n",
      "a\n",
      "ac\n",
      "ab\n",
      "abc\n"
     ]
    }
   ],
   "source": [
    "def subset(str, curr=\"\",i = 0):\n",
    "    if i == len(str):\n",
    "        print(curr)\n",
    "        return \n",
    "    subset(str,curr,i+1)\n",
    "    subset(str, curr+str[i],i+1)\n",
    "subset(\"abc\")"
   ]
  },
  {
   "cell_type": "code",
   "execution_count": 19,
   "id": "72f94b0c-150b-40e1-b0f0-cecc2b486fa7",
   "metadata": {},
   "outputs": [
    {
     "data": {
      "text/plain": [
       "2"
      ]
     },
     "execution_count": 19,
     "metadata": {},
     "output_type": "execute_result"
    }
   ],
   "source": [
    "def rcut(size, a,b,c):\n",
    "    if size == 0:\n",
    "        return 0\n",
    "    if size<0 :\n",
    "        return -1\n",
    "    res= max(rcut(size-a,a,b,c),rcut(size-b,a,b,c),rcut(size-c,a,b,c))\n",
    "    if res == -1:\n",
    "        return -1\n",
    "    return res +1\n",
    "rcut(23,11,9,12)"
   ]
  },
  {
   "cell_type": "code",
   "execution_count": null,
   "id": "d282618b-deb5-4a04-a4a9-70e71f47d1e1",
   "metadata": {},
   "outputs": [],
   "source": []
  },
  {
   "cell_type": "code",
   "execution_count": 1,
   "id": "d8a5ca1c-b7ca-460f-b134-a3f6e67dd06a",
   "metadata": {},
   "outputs": [
    {
     "data": {
      "text/plain": [
       "931500"
      ]
     },
     "execution_count": 1,
     "metadata": {},
     "output_type": "execute_result"
    }
   ],
   "source": [
    "2700 * 345"
   ]
  },
  {
   "cell_type": "code",
   "execution_count": 13,
   "id": "52fde156-5a69-48c5-a99d-07a905585422",
   "metadata": {},
   "outputs": [
    {
     "name": "stdout",
     "output_type": "stream",
     "text": [
      "Hello Manik, Welcome to the course 'Data Analysis with Python'.\n",
      "Hello Mrinal, Welcome to the course 'Data Analysis with Python'.\n",
      "Hello Shisu, Welcome to the course 'Data Analysis with Python'.\n",
      "Hello Jiten, Welcome to the course 'Data Analysis with Python'.\n",
      "Hello Anupam, Welcome to the course 'Data Analysis with Python'.\n"
     ]
    },
    {
     "data": {
      "text/plain": [
       "' \\nThe major difference between c++/Java and python here would be the amount of effort and time spent to do the same.\\n'"
      ]
     },
     "execution_count": 13,
     "metadata": {},
     "output_type": "execute_result"
    }
   ],
   "source": [
    "guest =  [\"Manik\", \"Mrinal\", \"Shisu\", \"Jiten\",\"Anupam\"]\n",
    "for name in guest:\n",
    "    print(\"Hello {}, Welcome to the course 'Data Analysis with Python'.\".format(name))\n",
    "\n",
    "\n",
    "\"\"\" \n",
    "The major difference between c++/Java and python here would be the amount of effort and time spent to do the same.\n",
    "\"\"\""
   ]
  },
  {
   "cell_type": "code",
   "execution_count": 15,
   "id": "2695f01e-91bb-4357-ac5c-7e80aba61288",
   "metadata": {},
   "outputs": [
    {
     "name": "stdout",
     "output_type": "stream",
     "text": [
      "45\n"
     ]
    }
   ],
   "source": [
    "a = 9\n",
    "print(a*5)\n",
    "\n",
    "# C++ \n",
    "int a = 9"
   ]
  },
  {
   "cell_type": "code",
   "execution_count": 17,
   "id": "4060505a-e9b4-4d95-8900-8bf3d5c89c31",
   "metadata": {},
   "outputs": [
    {
     "ename": "NameError",
     "evalue": "name 'i' is not defined",
     "output_type": "error",
     "traceback": [
      "\u001b[0;31m---------------------------------------------------------------------------\u001b[0m",
      "\u001b[0;31mNameError\u001b[0m                                 Traceback (most recent call last)",
      "Cell \u001b[0;32mIn[17], line 3\u001b[0m\n\u001b[1;32m      1\u001b[0m \u001b[38;5;66;03m# Write a python code to print squares of numbers from 1 to 50.\u001b[39;00m\n\u001b[0;32m----> 3\u001b[0m [i\u001b[38;5;241m*\u001b[39mi \u001b[38;5;28;01mfor\u001b[39;00m n \u001b[38;5;129;01min\u001b[39;00m \u001b[38;5;28mrange\u001b[39m(\u001b[38;5;241m1\u001b[39m,\u001b[38;5;241m51\u001b[39m)]\n",
      "Cell \u001b[0;32mIn[17], line 3\u001b[0m, in \u001b[0;36m<listcomp>\u001b[0;34m(.0)\u001b[0m\n\u001b[1;32m      1\u001b[0m \u001b[38;5;66;03m# Write a python code to print squares of numbers from 1 to 50.\u001b[39;00m\n\u001b[0;32m----> 3\u001b[0m [i\u001b[38;5;241m*\u001b[39mi \u001b[38;5;28;01mfor\u001b[39;00m n \u001b[38;5;129;01min\u001b[39;00m \u001b[38;5;28mrange\u001b[39m(\u001b[38;5;241m1\u001b[39m,\u001b[38;5;241m51\u001b[39m)]\n",
      "\u001b[0;31mNameError\u001b[0m: name 'i' is not defined"
     ]
    }
   ],
   "source": [
    "# Write a python code to print squares of numbers from 1 to 50.\n",
    "\n",
    "[i*i for n in range(1,51)] # last value of range is not counted."
   ]
  },
  {
   "cell_type": "code",
   "execution_count": 11,
   "id": "7febddca-153b-451a-b1d4-f5a9cb89c1e6",
   "metadata": {},
   "outputs": [
    {
     "name": "stdin",
     "output_type": "stream",
     "text": [
      "enter your name Ashish\n"
     ]
    }
   ],
   "source": [
    "name = (input(\"enter your name\"))"
   ]
  },
  {
   "cell_type": "code",
   "execution_count": 27,
   "id": "2bc15f1c-70f5-4323-8535-9fdb87a156fe",
   "metadata": {},
   "outputs": [
    {
     "name": "stdout",
     "output_type": "stream",
     "text": [
      "Move 1 from  a  to  c\n",
      "Move  2 from a  to  b\n",
      "Move 1 from  c  to  b\n",
      "Move  3 from a  to  c\n",
      "Move 1 from  b  to  a\n",
      "Move  2 from b  to  c\n",
      "Move 1 from  a  to  c\n"
     ]
    }
   ],
   "source": [
    "\n",
    "def hanoi(n,f,h,t):\n",
    "    if n == 1:\n",
    "        print(\"Move 1 from \" ,f,\" to \",t)\n",
    "        return \n",
    "    hanoi(n-1, f, t,h)\n",
    "    print(\"Move \",n, \"from\", f,\" to \",t)\n",
    "    hanoi(n-1,h,f,t)\n",
    "\n",
    "hanoi(3,\"a\",\"b\",\"c\")\n",
    "    "
   ]
  },
  {
   "cell_type": "code",
   "execution_count": 39,
   "id": "ab5cfa33-58aa-43b5-9b2f-08595b76b032",
   "metadata": {},
   "outputs": [],
   "source": [
    "def josephus(n,k):\n",
    "    if n == 1:\n",
    "        return 0\n",
    "    return (josephus(n-1,k)+k) % n \n",
    "# modulo is done because we want the result to be in between  0 to n"
   ]
  },
  {
   "cell_type": "code",
   "execution_count": 41,
   "id": "868c7575-e520-4091-b7c8-0c171b4d1041",
   "metadata": {},
   "outputs": [
    {
     "data": {
      "text/plain": [
       "3"
      ]
     },
     "execution_count": 41,
     "metadata": {},
     "output_type": "execute_result"
    }
   ],
   "source": [
    "josephus(5,3)"
   ]
  },
  {
   "cell_type": "code",
   "execution_count": null,
   "id": "0acdee57-ae73-418f-b4a5-4c73a63c72f6",
   "metadata": {},
   "outputs": [],
   "source": [
    "def josephus_1(n, k):\n",
    "    if n ==1:\n",
    "        return 1\n",
    "        \n",
    "    return (josephus(n-1,k) +k -1) % n +1\n",
    "josephus_1(5,3)"
   ]
  },
  {
   "cell_type": "code",
   "execution_count": null,
   "id": "fb05f522-36f3-4833-bdfa-75ca290f8df5",
   "metadata": {},
   "outputs": [],
   "source": [
    "\"\"\" Dry Run :\n",
    "josephus(5,3)\n",
    "-> (jos(4,3)+3)%5\n",
    "->((jos(3,3)+3)%4+3)%5\n",
    "->(((jos(2,3)+3)%3+3)%4+3)%5\n",
    "->((((jos(1,3)+3)%2)+3)%3+3)%4+3)%5   => ((((1+3)%2)+3)%3+3)%4+3)%5\n",
    "=3\n",
    "\n",
    "Time complexity is T(n) = T(n-1) + c\n",
    "So O(n) or 0(n)\n",
    "\"\"\"\n"
   ]
  },
  {
   "cell_type": "code",
   "execution_count": null,
   "id": "dfe5ac0e-0ed6-4052-940b-99098aa5a358",
   "metadata": {},
   "outputs": [],
   "source": [
    "\"\"\"\n",
    "\n",
    "Subset Problem\n",
    "I/p : {10,5,2,3,6}\n",
    "sum =8\n",
    "O/p : 2\n",
    "\n",
    "I/p :{1,2,3}\n",
    "sum=4\n",
    "o/p: 1\n",
    "\n",
    "I/p:{10,20,15}\n",
    "sum =37\n",
    "o/p:0\n",
    "\n",
    "I/p: {10,20,15}\n",
    "sum =0\n",
    "o/p:1\n",
    "\n",
    "\n",
    "{10,20,15} sum = 25\n",
    "\n",
    "                                    {}                                   n=3\n",
    "                {}                                              {15}            n=2\n",
    "        {}                   {20}                        {15}                    {15,20}   n =1\n",
    "  {}          {10}   {20}           {20,10}     {15}            {15,10}  {15,20}         {15,20,10}    n=0\n",
    "  \n",
    "\"\"\""
   ]
  },
  {
   "cell_type": "code",
   "execution_count": 59,
   "id": "44d34d46-6040-4eed-9703-f5082b2a5515",
   "metadata": {},
   "outputs": [],
   "source": [
    "def subset_sum(list,sum,n ):\n",
    "    if n ==0:\n",
    "        if sum == 0:\n",
    "            return 1 \n",
    "        else:\n",
    "            return 0\n",
    "    return subset_sum(list,sum,n-1) + subset_sum(list,sum-list[n-1],n-1)"
   ]
  },
  {
   "cell_type": "code",
   "execution_count": 61,
   "id": "79c2cf49-e151-488b-92f3-91beba01a651",
   "metadata": {},
   "outputs": [
    {
     "data": {
      "text/plain": [
       "1"
      ]
     },
     "execution_count": 61,
     "metadata": {},
     "output_type": "execute_result"
    }
   ],
   "source": [
    "subset_sum([10,20,15],25,3)"
   ]
  },
  {
   "cell_type": "code",
   "execution_count": 81,
   "id": "a3662314-355e-4472-966d-55707b4d0570",
   "metadata": {},
   "outputs": [
    {
     "name": "stdout",
     "output_type": "stream",
     "text": [
      "2\n",
      "35\n",
      "24\n",
      "35\n",
      "24\n",
      "35 24 True\n"
     ]
    },
    {
     "data": {
      "text/plain": [
       "False"
      ]
     },
     "execution_count": 81,
     "metadata": {},
     "output_type": "execute_result"
    }
   ],
   "source": [
    "def check_sorted(arr,n):\n",
    "    for i in range(0,n-1):\n",
    "        for j in range(i+1,n):\n",
    "            if arr[i] > arr[j]:\n",
    "                return False\n",
    "                break\n",
    "    return True\n",
    "check_sorted([2,35,24],3)\n",
    "\n",
    "\n",
    "# tHE TIME COMPLEXITY OF THIS SOLUTION IS O(n)\n"
   ]
  },
  {
   "cell_type": "code",
   "execution_count": 90,
   "id": "b370928f-d542-4fd6-b539-ed6a1d9842b9",
   "metadata": {},
   "outputs": [
    {
     "data": {
      "text/plain": [
       "False"
      ]
     },
     "execution_count": 90,
     "metadata": {},
     "output_type": "execute_result"
    }
   ],
   "source": [
    "def check_sorted_recursively(arr,n):\n",
    "    if n == 0:\n",
    "        return \n",
    "    if arr[n-1] >= arr[n-2]:\n",
    "        return True\n",
    "    else:\n",
    "        return False\n",
    "    check_sorted_recursively(arr,n-1)\n",
    "check_sorted_recursively([2,4,3],3)"
   ]
  },
  {
   "cell_type": "code",
   "execution_count": null,
   "id": "5bc1304c-81c9-4dcd-87ea-4a277533776b",
   "metadata": {},
   "outputs": [],
   "source": [
    "def secondlargestSum(array,n):\n",
    "    "
   ]
  },
  {
   "cell_type": "code",
   "execution_count": 1,
   "id": "a82d9177-7cb8-4194-9840-d2ce79da6ce9",
   "metadata": {},
   "outputs": [],
   "source": [
    "### Graphs"
   ]
  },
  {
   "cell_type": "code",
   "execution_count": 9,
   "id": "de80e827-ad40-4849-ba45-23a24c6ba6a7",
   "metadata": {},
   "outputs": [
    {
     "name": "stdout",
     "output_type": "stream",
     "text": [
      "a\n",
      "d\n",
      "g\n",
      "f\n",
      "e\n",
      "c\n",
      "b\n"
     ]
    }
   ],
   "source": [
    "graph = {\n",
    "    'a' : ['b','d'],\n",
    "    'b' : [],\n",
    "    'c' : [],\n",
    "    'd' : ['e','g'],\n",
    "    'e' : ['c'],\n",
    "    'f' : [],\n",
    "    'g' : ['f']\n",
    "}\n",
    "\n",
    "def dfs(graph, source):\n",
    "    stack = [ ]\n",
    "    stack.append(source)\n",
    "    while stack:\n",
    "        node = stack.pop()\n",
    "        print(node)\n",
    "        [stack.append(item) for item in graph[node]]\n",
    "    return\n",
    "dfs(graph,'a')"
   ]
  },
  {
   "cell_type": "code",
   "execution_count": 11,
   "id": "a9f302bd-e047-4587-ad8f-05997031c9e2",
   "metadata": {},
   "outputs": [
    {
     "name": "stdout",
     "output_type": "stream",
     "text": [
      "a\n",
      "b\n",
      "d\n",
      "e\n",
      "g\n",
      "c\n",
      "f\n"
     ]
    }
   ],
   "source": [
    "def bfs(graph, source):\n",
    "    queue = []\n",
    "    queue.append(source)\n",
    "    while queue :\n",
    "        node  = queue.pop(0)\n",
    "        print(node)\n",
    "        [queue.append(item) for item in  graph[node]]\n",
    "    return \n",
    "bfs(graph, 'a')"
   ]
  },
  {
   "cell_type": "code",
   "execution_count": null,
   "id": "68412622-dbdf-4815-a7ec-fe47453ef80a",
   "metadata": {},
   "outputs": [],
   "source": [
    "# Check if path exists between src & dst ( directed acyclic graph)\n",
    "graph2 = \n",
    "{\n",
    "    'a': [ 'b','c'],\n",
    "    'b': ['f','d'],\n",
    "    'c': [],\n",
    "    'd': ['g','i'],\n",
    "    'e': ['h'],\n",
    "    'f': ['e'],\n",
    "    'g': ['h'],\n",
    "    'h': [],\n",
    "    'i': []\n",
    "}\n",
    "# To do build this graph.\n",
    "def \n"
   ]
  },
  {
   "cell_type": "code",
   "execution_count": null,
   "id": "dd2bdf88-faa6-4087-9926-7cb9dca9912f",
   "metadata": {},
   "outputs": [
    {
     "name": "stdout",
     "output_type": "stream",
     "text": [
      "1. Write Rec\n",
      "2. Read Rec\n"
     ]
    },
    {
     "name": "stdin",
     "output_type": "stream",
     "text": [
      " Enter choice 2\n"
     ]
    },
    {
     "name": "stdout",
     "output_type": "stream",
     "text": [
      "id                    name                  salary\n",
      "12                      a                      12\n",
      "13                      b                      13\n",
      "14                      c                      14\n",
      "End of file is encountered\n",
      "1. Write Rec\n",
      "2. Read Rec\n"
     ]
    }
   ],
   "source": [
    "import pickle\n",
    "D={}\n",
    "def WriteRec(n):\n",
    "  f=open(\"Emp2.dat\",\"wb\")\n",
    "  for i in range(3):\n",
    "   id=int(input(\"Enter id\"))\n",
    "   name=input(\"Enter name\")\n",
    "   salary=int(input(\"Enter salary\"))\n",
    "   D[id]=[name,salary]\n",
    "  pickle.dump(D,f)\n",
    "  f.close()\n",
    "def ReadRec():\n",
    "    f=open(\"Emp2.dat\",\"rb\")\n",
    "    try:\n",
    "      print(\"id\",' '*(20-len(\"id\")),\"name\",' '*(20-len(\"name\")),\"salary\")\n",
    "      while True:\n",
    "          d=pickle.load(f)\n",
    "          for a,b in d.items():\n",
    "            print(a,\" \"*20,b[0],\" \"*20,b[1])\n",
    "        #  (a,\" \"*(20-len(str((a))),accnt[a][0],' '*(20-len(str(accnt[a][0]))),accnt[a][1])\n",
    "    except EOFError:\n",
    "        print(\"End of file is encountered\")\n",
    "    f.close()\n",
    "\n",
    "while True:\n",
    "    print(\"1. Write Rec\")\n",
    "    print(\"2. Read Rec\")\n",
    "    ch=int(input(\" Enter choice\"))\n",
    "    if ch==1:\n",
    "        WriteRec(3)\n",
    "    elif ch==2:\n",
    "        ReadRec()\n",
    "    else:\n",
    "        print(\"Invalid choice\")\n",
    "        break\n"
   ]
  },
  {
   "cell_type": "code",
   "execution_count": null,
   "id": "12754c8c-c552-4d7a-802f-6d427f46bb01",
   "metadata": {},
   "outputs": [],
   "source": []
  },
  {
   "cell_type": "code",
   "execution_count": 6,
   "id": "f9273fe3-7030-4e27-b827-d7acf0b389ac",
   "metadata": {},
   "outputs": [
    {
     "data": {
      "text/plain": [
       "[4, 6, 8, 10, 2]"
      ]
     },
     "execution_count": 6,
     "metadata": {},
     "output_type": "execute_result"
    }
   ],
   "source": [
    "def rotatebyone(list):\n",
    "    temp = list[0]\n",
    "    for i in range(1,len(list),1):\n",
    "        list[i-1] = list[i]\n",
    "    list[-1] = temp\n",
    "    return list\n",
    "rotatebyone([2,4,6,8,10])"
   ]
  },
  {
   "cell_type": "code",
   "execution_count": 26,
   "id": "c1072c00-33fb-409f-aac7-85f7dcc6ca4a",
   "metadata": {},
   "outputs": [
    {
     "name": "stdout",
     "output_type": "stream",
     "text": [
      "2\n",
      "5\n",
      "6\n",
      "10\n"
     ]
    },
    {
     "ename": "IndexError",
     "evalue": "list index out of range",
     "output_type": "error",
     "traceback": [
      "\u001b[0;31m---------------------------------------------------------------------------\u001b[0m",
      "\u001b[0;31mIndexError\u001b[0m                                Traceback (most recent call last)",
      "Cell \u001b[0;32mIn[26], line 13\u001b[0m\n\u001b[1;32m     11\u001b[0m             current_leader \u001b[38;5;241m=\u001b[39m list1[i\u001b[38;5;241m-\u001b[39m\u001b[38;5;241m1\u001b[39m]\n\u001b[1;32m     12\u001b[0m     \u001b[38;5;28mprint\u001b[39m(list1[current_leader])\n\u001b[0;32m---> 13\u001b[0m leadersinarray([\u001b[38;5;241m7\u001b[39m,\u001b[38;5;241m10\u001b[39m,\u001b[38;5;241m4\u001b[39m,\u001b[38;5;241m3\u001b[39m,\u001b[38;5;241m6\u001b[39m,\u001b[38;5;241m5\u001b[39m,\u001b[38;5;241m2\u001b[39m])\n",
      "Cell \u001b[0;32mIn[26], line 12\u001b[0m, in \u001b[0;36mleadersinarray\u001b[0;34m(list1)\u001b[0m\n\u001b[1;32m     10\u001b[0m         \u001b[38;5;28mprint\u001b[39m(list1[i\u001b[38;5;241m-\u001b[39m\u001b[38;5;241m1\u001b[39m])\n\u001b[1;32m     11\u001b[0m         current_leader \u001b[38;5;241m=\u001b[39m list1[i\u001b[38;5;241m-\u001b[39m\u001b[38;5;241m1\u001b[39m]\n\u001b[0;32m---> 12\u001b[0m \u001b[38;5;28mprint\u001b[39m(list1[current_leader])\n",
      "\u001b[0;31mIndexError\u001b[0m: list index out of range"
     ]
    }
   ],
   "source": [
    "'''\n",
    "input = [7,10,4,3,6,5,2]\n",
    "output= [10,6,5,2]\n",
    "'''\n",
    "def leadersinarray(list1):\n",
    "    current_leader = list1[-1]\n",
    "    print(current_leader)\n",
    "    for i in range(len(list1)-1,-1,-1):\n",
    "        if list1[i-1]>current_leader:\n",
    "            print(list1[i-1])\n",
    "            current_leader = list1[i-1]\n",
    "    print(list1[current_leader])\n",
    "leadersinarray([7,10,4,3,6,5,2])\n",
    "\n",
    "    "
   ]
  },
  {
   "cell_type": "code",
   "execution_count": 69,
   "id": "6f326278-b98f-40c5-a71d-1673ebafa81d",
   "metadata": {},
   "outputs": [
    {
     "data": {
      "text/plain": [
       "8"
      ]
     },
     "execution_count": 69,
     "metadata": {},
     "output_type": "execute_result"
    }
   ],
   "source": [
    "arr = [2,3,10,6,4,8,1]\n",
    "#from math import abs\n",
    "def max_diff(arr):\n",
    "    if arr[0] > arr[1]:\n",
    "        min_element = arr[1]\n",
    "    else:\n",
    "        min_element = arr[0]\n",
    "    max_diff = abs(arr[0]-arr[1])\n",
    "    for i in range(1,len(arr)-1,1):\n",
    "        max_diff = max(max_diff, arr[i]-min_element)\n",
    "        min_element = min(min_element, arr[i])\n",
    "    return (max_diff)\n",
    "max_diff(arr)\n",
    "            "
   ]
  },
  {
   "cell_type": "code",
   "execution_count": 99,
   "id": "5cfc3f10-ccab-41b8-a0a7-169d196dd558",
   "metadata": {},
   "outputs": [
    {
     "name": "stdout",
     "output_type": "stream",
     "text": [
      "2 2\n",
      "3 1\n",
      "4 1\n",
      "5 3\n",
      "66 2\n"
     ]
    }
   ],
   "source": [
    "def frequency(arr):\n",
    "    freq= 1\n",
    "    for i in range(0, len(arr)-1):\n",
    "        if arr[i] == arr[i+1]:\n",
    "            freq += 1\n",
    "        else:\n",
    "            print(arr[i],freq)\n",
    "            freq=1\n",
    "    print(arr[i],freq)\n",
    "frequency([2,2,3,4,5,5,5,66,66])\n"
   ]
  },
  {
   "cell_type": "code",
   "execution_count": 101,
   "id": "d39e6b6d-a767-4494-bfac-9431ad27e61c",
   "metadata": {},
   "outputs": [],
   "source": [
    "# Stock buy and sell"
   ]
  },
  {
   "cell_type": "code",
   "execution_count": 109,
   "id": "5881106c-b162-4d6f-a744-e3bc51759ae5",
   "metadata": {},
   "outputs": [
    {
     "data": {
      "text/plain": [
       "4"
      ]
     },
     "execution_count": 109,
     "metadata": {},
     "output_type": "execute_result"
    }
   ],
   "source": [
    "def stock_buy_sell(arr):\n",
    "    if arr[0] > arr[1]:\n",
    "        min_element = arr[1]\n",
    "    else:\n",
    "        min_element = arr[0]\n",
    "    profit = 0 \n",
    "stock_buy_sell([1,5,3,8,12])"
   ]
  },
  {
   "cell_type": "code",
   "execution_count": 132,
   "id": "b6d7b7ad-1a37-4b38-98c9-c98b4308c4b6",
   "metadata": {},
   "outputs": [
    {
     "data": {
      "text/plain": [
       "13"
      ]
     },
     "execution_count": 132,
     "metadata": {},
     "output_type": "execute_result"
    }
   ],
   "source": [
    "def maxprofit(arr, start, n):\n",
    "    if n <= start:\n",
    "        return 0;\n",
    "    profit = 0\n",
    "    for i in range(start,n):\n",
    "        for j in range(i+1,n):\n",
    "            if arr[i]<arr[j]:\n",
    "                curr_profit = (arr[j]-arr[i]) + maxprofit(arr,start,i-1)+maxprofit(arr,j+1,n)\n",
    "                profit = max(profit, curr_profit)\n",
    "    return profit\n",
    "maxprofit([1,5,3,8,12],0,len([1,5,3,8,12]))"
   ]
  },
  {
   "cell_type": "code",
   "execution_count": 144,
   "id": "310efa32-8d5f-4f0d-aa5f-642c297a9d9f",
   "metadata": {},
   "outputs": [
    {
     "data": {
      "text/plain": [
       "13"
      ]
     },
     "execution_count": 144,
     "metadata": {},
     "output_type": "execute_result"
    }
   ],
   "source": [
    "def profitefficient(arr):\n",
    "    profit = 0 \n",
    "    for i in range( 1, len(arr)):\n",
    "        if arr[i-1] < arr[i]:\n",
    "            profit += (arr[i]-arr[i-1])\n",
    "    return profit\n",
    "profitefficient([1,5,3,8,12])  "
   ]
  },
  {
   "cell_type": "code",
   "execution_count": 158,
   "id": "de92cbdc-1556-42b5-a764-06c3a3ec5f89",
   "metadata": {},
   "outputs": [
    {
     "name": "stdout",
     "output_type": "stream",
     "text": [
      "i is 0 current count 0\n",
      "i is 1 current count 1\n",
      "i is 2 current count 2\n",
      "i is 3 current count 3\n",
      "i is 4 current count 4\n",
      "i is 5 current count 0\n",
      "i is 6 current count 1\n",
      "i is 7 current count 2\n"
     ]
    },
    {
     "data": {
      "text/plain": [
       "4"
      ]
     },
     "execution_count": 158,
     "metadata": {},
     "output_type": "execute_result"
    }
   ],
   "source": [
    "def max_consecutive_1(arr):\n",
    "    max_count= 0\n",
    "    current_count = 0\n",
    "    for i in range(0,len(arr)):\n",
    "        print(\"i is\" , i ,\"current count\" , current_count)\n",
    "        if arr[i]==1:\n",
    "            current_count +=1\n",
    "        else:\n",
    "            max_count = max(current_count,max_count)\n",
    "            current_count =0\n",
    "    return max_count\n",
    "\n",
    "max_consecutive_1([1,1,1,1,0,1,1,1])"
   ]
  },
  {
   "cell_type": "code",
   "execution_count": null,
   "id": "122b9acb-7196-4ebc-b120-779080b0a779",
   "metadata": {},
   "outputs": [],
   "source": [
    "def trappingrainwater("
   ]
  }
 ],
 "metadata": {
  "kernelspec": {
   "display_name": "Python 3 (ipykernel)",
   "language": "python",
   "name": "python3"
  },
  "language_info": {
   "codemirror_mode": {
    "name": "ipython",
    "version": 3
   },
   "file_extension": ".py",
   "mimetype": "text/x-python",
   "name": "python",
   "nbconvert_exporter": "python",
   "pygments_lexer": "ipython3",
   "version": "3.11.8"
  }
 },
 "nbformat": 4,
 "nbformat_minor": 5
}
